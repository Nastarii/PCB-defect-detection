{
  "nbformat": 4,
  "nbformat_minor": 0,
  "metadata": {
    "colab": {
      "name": "Main.ipynb",
      "provenance": [],
      "authorship_tag": "ABX9TyNmO1g3xjBjMI/Ve/mWKOlI",
      "include_colab_link": true
    },
    "kernelspec": {
      "name": "python3",
      "display_name": "Python 3"
    },
    "language_info": {
      "name": "python"
    }
  },
  "cells": [
    {
      "cell_type": "markdown",
      "metadata": {
        "id": "view-in-github",
        "colab_type": "text"
      },
      "source": [
        "<a href=\"https://colab.research.google.com/github/Nastarii/PCB-defect-detection/blob/main/Main.ipynb\" target=\"_parent\"><img src=\"https://colab.research.google.com/assets/colab-badge.svg\" alt=\"Open In Colab\"/></a>"
      ]
    },
    {
      "cell_type": "markdown",
      "metadata": {
        "id": "uQRyLDI40RkL"
      },
      "source": [
        "# Configuration"
      ]
    },
    {
      "cell_type": "code",
      "metadata": {
        "colab": {
          "base_uri": "https://localhost:8080/"
        },
        "id": "QG8Ude1d0Zic",
        "outputId": "f3854ddd-239e-4398-dc5f-5450f0a9d588"
      },
      "source": [
        "!pip install imageio"
      ],
      "execution_count": 48,
      "outputs": [
        {
          "output_type": "stream",
          "name": "stdout",
          "text": [
            "Requirement already satisfied: imageio in /usr/local/lib/python3.7/dist-packages (2.4.1)\n",
            "Requirement already satisfied: pillow in /usr/local/lib/python3.7/dist-packages (from imageio) (7.1.2)\n",
            "Requirement already satisfied: numpy in /usr/local/lib/python3.7/dist-packages (from imageio) (1.19.5)\n"
          ]
        }
      ]
    },
    {
      "cell_type": "markdown",
      "metadata": {
        "id": "NaMlw_vP0kc1"
      },
      "source": [
        "Upload the dataset from github"
      ]
    },
    {
      "cell_type": "code",
      "metadata": {
        "id": "PLbfOFEX0qaQ",
        "colab": {
          "base_uri": "https://localhost:8080/"
        },
        "outputId": "478db05f-c3e1-4215-e395-b4921aceb29d"
      },
      "source": [
        "!wget --no-check-certificate \\\n",
        "    \"https://github.com/tangsanli5201/DeepPCB/archive/refs/heads/master.zip\" \\\n",
        "    -O \"/tmp/DeepPCB.zip\""
      ],
      "execution_count": 49,
      "outputs": [
        {
          "output_type": "stream",
          "name": "stdout",
          "text": [
            "--2021-09-25 00:14:42--  https://github.com/tangsanli5201/DeepPCB/archive/refs/heads/master.zip\n",
            "Resolving github.com (github.com)... 52.69.186.44\n",
            "Connecting to github.com (github.com)|52.69.186.44|:443... connected.\n",
            "HTTP request sent, awaiting response... 302 Found\n",
            "Location: https://codeload.github.com/tangsanli5201/DeepPCB/zip/refs/heads/master [following]\n",
            "--2021-09-25 00:14:43--  https://codeload.github.com/tangsanli5201/DeepPCB/zip/refs/heads/master\n",
            "Resolving codeload.github.com (codeload.github.com)... 52.68.31.213\n",
            "Connecting to codeload.github.com (codeload.github.com)|52.68.31.213|:443... connected.\n",
            "HTTP request sent, awaiting response... 200 OK\n",
            "Length: unspecified [application/zip]\n",
            "Saving to: ‘/tmp/DeepPCB.zip’\n",
            "\n",
            "/tmp/DeepPCB.zip        [              <=>   ]  86.79M  22.2MB/s    in 3.9s    \n",
            "\n",
            "2021-09-25 00:14:47 (22.1 MB/s) - ‘/tmp/DeepPCB.zip’ saved [91004517]\n",
            "\n"
          ]
        }
      ]
    },
    {
      "cell_type": "markdown",
      "metadata": {
        "id": "VD_7PDDdMqmt"
      },
      "source": [
        "# Libraries\n",
        "\n",
        "---\n",
        "\n"
      ]
    },
    {
      "cell_type": "code",
      "metadata": {
        "id": "D-NpfybtNLpk"
      },
      "source": [
        "import matplotlib.pyplot as plt\n",
        "import tensorflow as tf\n",
        "import pandas as pd\n",
        "import numpy as np\n",
        "import cv2 as cv\n",
        "import zipfile\n",
        "import imageio\n",
        "import imgaug\n",
        "import torch\n",
        "import PIL\n",
        "import os"
      ],
      "execution_count": 50,
      "outputs": []
    },
    {
      "cell_type": "markdown",
      "metadata": {
        "id": "r53MtjPa088a"
      },
      "source": [
        "#Extract Dataset from zip"
      ]
    },
    {
      "cell_type": "code",
      "metadata": {
        "id": "By2jZ5zo06Bs"
      },
      "source": [
        "zip_format = zipfile.ZipFile('/tmp/DeepPCB.zip','r')\n",
        "zip_format.extractall('/tmp')\n",
        "zip_format.close()"
      ],
      "execution_count": 51,
      "outputs": []
    },
    {
      "cell_type": "markdown",
      "metadata": {
        "id": "0Sv2CmmRKH2U"
      },
      "source": [
        "# Split Train and Test set"
      ]
    },
    {
      "cell_type": "code",
      "metadata": {
        "id": "C0r4ncgbknyz"
      },
      "source": [
        "directory = '/tmp/DeepPCB-master/PCBData/'\n",
        "\n",
        "train_val_paths = pd.read_csv(directory + 'trainval.txt', delimiter = \" \",header= None)\n",
        "test_paths = pd.read_csv(directory + 'test.txt', delimiter = \" \", header= None)"
      ],
      "execution_count": 52,
      "outputs": []
    },
    {
      "cell_type": "code",
      "metadata": {
        "id": "sjI0D0g7WD1H"
      },
      "source": [
        "df = pd.concat([train_val_paths, test_paths],axis=0).sample(frac=1,random_state=42).drop(0,axis=1).rename(columns={1:'txt_files'})"
      ],
      "execution_count": 53,
      "outputs": []
    },
    {
      "cell_type": "code",
      "metadata": {
        "id": "POeNhk2qWn-K",
        "colab": {
          "base_uri": "https://localhost:8080/"
        },
        "outputId": "68f68b0e-eacd-43fe-a7d5-9d4d954fb06a"
      },
      "source": [
        "df.info()"
      ],
      "execution_count": 54,
      "outputs": [
        {
          "output_type": "stream",
          "name": "stdout",
          "text": [
            "<class 'pandas.core.frame.DataFrame'>\n",
            "Int64Index: 1500 entries, 116 to 126\n",
            "Data columns (total 1 columns):\n",
            " #   Column     Non-Null Count  Dtype \n",
            "---  ------     --------------  ----- \n",
            " 0   txt_files  1500 non-null   object\n",
            "dtypes: object(1)\n",
            "memory usage: 23.4+ KB\n"
          ]
        }
      ]
    },
    {
      "cell_type": "code",
      "metadata": {
        "id": "93Z6MT2flfzi"
      },
      "source": [
        "train_val_files = df['txt_files'][:1000].values\n",
        "test_files = df['txt_files'][:-500].values"
      ],
      "execution_count": 55,
      "outputs": []
    },
    {
      "cell_type": "markdown",
      "metadata": {
        "id": "p1X9dtjgPl7g"
      },
      "source": [
        "# Read images"
      ]
    },
    {
      "cell_type": "code",
      "metadata": {
        "id": "F3OCEUfXSWw_",
        "colab": {
          "base_uri": "https://localhost:8080/",
          "height": 284
        },
        "outputId": "a9360d30-4d81-4545-d211-45ea860e24fa"
      },
      "source": [
        "%matplotlib inline\n",
        "\n",
        "image = PIL.Image.open(directory + 'group77000/77000/77000012_test.jpg')\n",
        "crop_area = [365,128,396,167]\n",
        "image = image.crop(crop_area)\n",
        "plt.imshow(np.asarray(image))"
      ],
      "execution_count": 56,
      "outputs": [
        {
          "output_type": "execute_result",
          "data": {
            "text/plain": [
              "<matplotlib.image.AxesImage at 0x7fe1f2d65890>"
            ]
          },
          "metadata": {},
          "execution_count": 56
        },
        {
          "output_type": "display_data",
          "data": {
            "image/png": "[encoded data removed]",
            "text/plain": [
              "<Figure size 432x288 with 1 Axes>"
            ]
          },
          "metadata": {
            "needs_background": "light"
          }
        }
      ]
    },
    {
      "cell_type": "markdown",
      "metadata": {
        "id": "dMOSFwWpWdTF"
      },
      "source": [
        "# Prepare Image and Labels"
      ]
    },
    {
      "cell_type": "code",
      "metadata": {
        "id": "wgHmwJIlezkx",
        "outputId": "2174c5c5-0e2c-4405-b914-61b661a38a34",
        "colab": {
          "base_uri": "https://localhost:8080/",
          "height": 292
        }
      },
      "source": [
        "os.makedirs('/tmp/PCBdefects')"
      ],
      "execution_count": 57,
      "outputs": [
        {
          "output_type": "error",
          "ename": "FileExistsError",
          "evalue": "ignored",
          "traceback": [
            "\u001b[0;31m---------------------------------------------------------------------------\u001b[0m",
            "\u001b[0;31mFileExistsError\u001b[0m                           Traceback (most recent call last)",
            "\u001b[0;32m<ipython-input-57-dfc292da58e1>\u001b[0m in \u001b[0;36m<module>\u001b[0;34m()\u001b[0m\n\u001b[0;32m----> 1\u001b[0;31m \u001b[0mos\u001b[0m\u001b[0;34m.\u001b[0m\u001b[0mmakedirs\u001b[0m\u001b[0;34m(\u001b[0m\u001b[0;34m'/tmp/PCBdefects'\u001b[0m\u001b[0;34m)\u001b[0m\u001b[0;34m\u001b[0m\u001b[0;34m\u001b[0m\u001b[0m\n\u001b[0m",
            "\u001b[0;32m/usr/lib/python3.7/os.py\u001b[0m in \u001b[0;36mmakedirs\u001b[0;34m(name, mode, exist_ok)\u001b[0m\n\u001b[1;32m    221\u001b[0m             \u001b[0;32mreturn\u001b[0m\u001b[0;34m\u001b[0m\u001b[0;34m\u001b[0m\u001b[0m\n\u001b[1;32m    222\u001b[0m     \u001b[0;32mtry\u001b[0m\u001b[0;34m:\u001b[0m\u001b[0;34m\u001b[0m\u001b[0;34m\u001b[0m\u001b[0m\n\u001b[0;32m--> 223\u001b[0;31m         \u001b[0mmkdir\u001b[0m\u001b[0;34m(\u001b[0m\u001b[0mname\u001b[0m\u001b[0;34m,\u001b[0m \u001b[0mmode\u001b[0m\u001b[0;34m)\u001b[0m\u001b[0;34m\u001b[0m\u001b[0;34m\u001b[0m\u001b[0m\n\u001b[0m\u001b[1;32m    224\u001b[0m     \u001b[0;32mexcept\u001b[0m \u001b[0mOSError\u001b[0m\u001b[0;34m:\u001b[0m\u001b[0;34m\u001b[0m\u001b[0;34m\u001b[0m\u001b[0m\n\u001b[1;32m    225\u001b[0m         \u001b[0;31m# Cannot rely on checking for EEXIST, since the operating system\u001b[0m\u001b[0;34m\u001b[0m\u001b[0;34m\u001b[0m\u001b[0;34m\u001b[0m\u001b[0m\n",
            "\u001b[0;31mFileExistsError\u001b[0m: [Errno 17] File exists: '/tmp/PCBdefects'"
          ]
        }
      ]
    },
    {
      "cell_type": "code",
      "metadata": {
        "id": "_BkEgzuURoLj"
      },
      "source": [
        "count = 0\n",
        "class_labels = []\n",
        "class_imgs = []\n",
        "\n",
        "for txt in train_val_files:\n",
        "\n",
        "    read_txt = pd.read_csv(directory + txt, delimiter= \" \", header=None)\n",
        "    img_path = txt.replace(\"_not\",\"\").replace(\".txt\",\"_test.jpg\")\n",
        "\n",
        "    for i in range (len(read_txt)):\n",
        "\n",
        "        label = read_txt.iloc[i][4]\n",
        "        class_labels.append(label)\n",
        "\n",
        "        crop_area = read_txt.iloc[i][:4]\n",
        "        image = PIL.Image.open(directory + img_path)\n",
        "        image = image.crop(crop_area)\n",
        "        image = image.resize((50,50),PIL.Image.ANTIALIAS,)\n",
        "        image.save('/tmp/PCBdefects/defect' + str(count) + '_' + str(label) + '.jpg')\n",
        "        class_imgs.append(np.asarray(image,dtype='float32'))\n",
        "        count = count + 1"
      ],
      "execution_count": 89,
      "outputs": []
    },
    {
      "cell_type": "code",
      "metadata": {
        "id": "DHl-u8hZleIf"
      },
      "source": [
        "labels = pd.DataFrame(class_labels,columns=['Label'],dtype='int8')"
      ],
      "execution_count": 90,
      "outputs": []
    },
    {
      "cell_type": "code",
      "metadata": {
        "id": "WMHQGJFuoWDw"
      },
      "source": [
        "labels = pd.get_dummies(labels,columns=['Label'])"
      ],
      "execution_count": 91,
      "outputs": []
    },
    {
      "cell_type": "code",
      "metadata": {
        "id": "uL6fT6BHqE3x"
      },
      "source": [
        "labels = labels.rename(columns={'Label_1':'open','Label_2':'short',\n",
        "                       'Label_3':'mousebite','Label_4':'spur',\n",
        "                       'Label_5':'copper','Label_6':'pin-hole'})"
      ],
      "execution_count": 92,
      "outputs": []
    },
    {
      "cell_type": "code",
      "metadata": {
        "id": "D27Dq66xq-Hp",
        "colab": {
          "base_uri": "https://localhost:8080/",
          "height": 202
        },
        "outputId": "23eb531c-3c4c-47d1-d4ab-f2abddb6eb15"
      },
      "source": [
        "labels.head()"
      ],
      "execution_count": 93,
      "outputs": [
        {
          "output_type": "execute_result",
          "data": {
            "text/html": [
              "<div>\n",
              "<style scoped>\n",
              "    .dataframe tbody tr th:only-of-type {\n",
              "        vertical-align: middle;\n",
              "    }\n",
              "\n",
              "    .dataframe tbody tr th {\n",
              "        vertical-align: top;\n",
              "    }\n",
              "\n",
              "    .dataframe thead th {\n",
              "        text-align: right;\n",
              "    }\n",
              "</style>\n",
              "<table border=\"1\" class=\"dataframe\">\n",
              "  <thead>\n",
              "    <tr style=\"text-align: right;\">\n",
              "      <th></th>\n",
              "      <th>open</th>\n",
              "      <th>short</th>\n",
              "      <th>mousebite</th>\n",
              "      <th>spur</th>\n",
              "      <th>copper</th>\n",
              "      <th>pin-hole</th>\n",
              "    </tr>\n",
              "  </thead>\n",
              "  <tbody>\n",
              "    <tr>\n",
              "      <th>0</th>\n",
              "      <td>1</td>\n",
              "      <td>0</td>\n",
              "      <td>0</td>\n",
              "      <td>0</td>\n",
              "      <td>0</td>\n",
              "      <td>0</td>\n",
              "    </tr>\n",
              "    <tr>\n",
              "      <th>1</th>\n",
              "      <td>0</td>\n",
              "      <td>1</td>\n",
              "      <td>0</td>\n",
              "      <td>0</td>\n",
              "      <td>0</td>\n",
              "      <td>0</td>\n",
              "    </tr>\n",
              "    <tr>\n",
              "      <th>2</th>\n",
              "      <td>0</td>\n",
              "      <td>0</td>\n",
              "      <td>1</td>\n",
              "      <td>0</td>\n",
              "      <td>0</td>\n",
              "      <td>0</td>\n",
              "    </tr>\n",
              "    <tr>\n",
              "      <th>3</th>\n",
              "      <td>0</td>\n",
              "      <td>0</td>\n",
              "      <td>0</td>\n",
              "      <td>0</td>\n",
              "      <td>0</td>\n",
              "      <td>1</td>\n",
              "    </tr>\n",
              "    <tr>\n",
              "      <th>4</th>\n",
              "      <td>0</td>\n",
              "      <td>0</td>\n",
              "      <td>0</td>\n",
              "      <td>0</td>\n",
              "      <td>1</td>\n",
              "      <td>0</td>\n",
              "    </tr>\n",
              "  </tbody>\n",
              "</table>\n",
              "</div>"
            ],
            "text/plain": [
              "   open  short  mousebite  spur  copper  pin-hole\n",
              "0     1      0          0     0       0         0\n",
              "1     0      1          0     0       0         0\n",
              "2     0      0          1     0       0         0\n",
              "3     0      0          0     0       0         1\n",
              "4     0      0          0     0       1         0"
            ]
          },
          "metadata": {},
          "execution_count": 93
        }
      ]
    },
    {
      "cell_type": "code",
      "metadata": {
        "id": "2mfn7DXBCxZI"
      },
      "source": [
        "categories = {0: {'id':1,'name':'open'},\n",
        "              1: {'id':2,'name':'short'},\n",
        "              2: {'id':3,'name':'mousebite'},\n",
        "              3: {'id':4,'name':'spur'},\n",
        "              4: {'id':5,'name':'copper'},\n",
        "              5: {'id':6,'name':'pin-hole'}}"
      ],
      "execution_count": 94,
      "outputs": []
    },
    {
      "cell_type": "markdown",
      "metadata": {
        "id": "PBLBi642MvVV"
      },
      "source": [
        "# Model"
      ]
    },
    {
      "cell_type": "code",
      "metadata": {
        "id": "dio7TWqNMXlt"
      },
      "source": [
        "from tensorflow.keras.preprocessing.image import ImageDataGenerator\n",
        "from tensorflow.keras.preprocessing.image import img_to_array\n",
        "from tensorflow.keras.models import Sequential\n",
        "from tensorflow.keras import layers\n",
        "from sklearn.model_selection import train_test_split\n",
        "from tensorflow.keras.optimizers import Adam\n",
        "import pathlib"
      ],
      "execution_count": 95,
      "outputs": []
    },
    {
      "cell_type": "code",
      "metadata": {
        "id": "p47yJGxiM9LW"
      },
      "source": [
        "trainX, testX, trainY, testY = train_test_split(class_imgs,\n",
        "\tlabels, test_size=0.2, random_state=42)\n",
        "\n",
        "aug = ImageDataGenerator(rotation_range=25, width_shift_range=0.1,\n",
        "\theight_shift_range=0.1, shear_range=0.2, zoom_range=0.2,\n",
        "\thorizontal_flip=True, fill_mode=\"nearest\")"
      ],
      "execution_count": 96,
      "outputs": []
    },
    {
      "cell_type": "code",
      "metadata": {
        "id": "V_XxoPw-NuJn"
      },
      "source": [
        "model = Sequential([\n",
        "  layers.Conv2D(16, 3, padding='same', activation='relu',input_shape=(50, 50, 1)),\n",
        "  layers.MaxPooling2D(),\n",
        "  layers.Conv2D(32, 3, padding='same', activation='relu'),\n",
        "  layers.MaxPooling2D(),\n",
        "  layers.Conv2D(64, 3, padding='same', activation='relu'),\n",
        "  layers.MaxPooling2D(),\n",
        "  layers.Flatten(),\n",
        "  layers.Dense(128, activation='relu'),\n",
        "  layers.Dense(6)\n",
        "])"
      ],
      "execution_count": 97,
      "outputs": []
    },
    {
      "cell_type": "code",
      "metadata": {
        "id": "WbBZTxNRNPmo"
      },
      "source": [
        "model.compile(optimizer='adam',\n",
        "              loss=tf.keras.losses.SparseCategoricalCrossentropy(from_logits=True),\n",
        "              metrics=['accuracy'])"
      ],
      "execution_count": 98,
      "outputs": []
    },
    {
      "cell_type": "code",
      "metadata": {
        "id": "CPfkoyUdOfq_",
        "colab": {
          "base_uri": "https://localhost:8080/"
        },
        "outputId": "9d70c9d7-da97-4a48-986d-5cba1346150f"
      },
      "source": [
        "model.summary()"
      ],
      "execution_count": 99,
      "outputs": [
        {
          "output_type": "stream",
          "name": "stdout",
          "text": [
            "Model: \"sequential_4\"\n",
            "_________________________________________________________________\n",
            "Layer (type)                 Output Shape              Param #   \n",
            "=================================================================\n",
            "conv2d_12 (Conv2D)           (None, 50, 50, 16)        160       \n",
            "_________________________________________________________________\n",
            "max_pooling2d_12 (MaxPooling (None, 25, 25, 16)        0         \n",
            "_________________________________________________________________\n",
            "conv2d_13 (Conv2D)           (None, 25, 25, 32)        4640      \n",
            "_________________________________________________________________\n",
            "max_pooling2d_13 (MaxPooling (None, 12, 12, 32)        0         \n",
            "_________________________________________________________________\n",
            "conv2d_14 (Conv2D)           (None, 12, 12, 64)        18496     \n",
            "_________________________________________________________________\n",
            "max_pooling2d_14 (MaxPooling (None, 6, 6, 64)          0         \n",
            "_________________________________________________________________\n",
            "flatten_4 (Flatten)          (None, 2304)              0         \n",
            "_________________________________________________________________\n",
            "dense_8 (Dense)              (None, 128)               295040    \n",
            "_________________________________________________________________\n",
            "dense_9 (Dense)              (None, 6)                 774       \n",
            "=================================================================\n",
            "Total params: 319,110\n",
            "Trainable params: 319,110\n",
            "Non-trainable params: 0\n",
            "_________________________________________________________________\n"
          ]
        }
      ]
    }
  ]
}