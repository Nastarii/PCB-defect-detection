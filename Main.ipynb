{
  "nbformat": 4,
  "nbformat_minor": 0,
  "metadata": {
    "colab": {
      "name": "Main.ipynb",
      "provenance": [],
      "authorship_tag": "ABX9TyPIn8JvjY5BnKN8AKrDA66E",
      "include_colab_link": true
    },
    "kernelspec": {
      "name": "python3",
      "display_name": "Python 3"
    },
    "language_info": {
      "name": "python"
    }
  },
  "cells": [
    {
      "cell_type": "markdown",
      "metadata": {
        "id": "view-in-github",
        "colab_type": "text"
      },
      "source": [
        "<a href=\"https://colab.research.google.com/github/Nastarii/PCB-defect-detection/blob/main/Main.ipynb\" target=\"_parent\"><img src=\"https://colab.research.google.com/assets/colab-badge.svg\" alt=\"Open In Colab\"/></a>"
      ]
    },
    {
      "cell_type": "markdown",
      "metadata": {
        "id": "uQRyLDI40RkL"
      },
      "source": [
        "# Configuration"
      ]
    },
    {
      "cell_type": "code",
      "metadata": {
        "colab": {
          "base_uri": "https://localhost:8080/"
        },
        "id": "QG8Ude1d0Zic",
        "outputId": "d5803c97-fb98-46f3-e72d-574ee6fa4b25"
      },
      "source": [
        "!pip install imageio"
      ],
      "execution_count": 1,
      "outputs": [
        {
          "output_type": "stream",
          "name": "stdout",
          "text": [
            "Requirement already satisfied: imageio in /usr/local/lib/python3.7/dist-packages (2.4.1)\n",
            "Requirement already satisfied: pillow in /usr/local/lib/python3.7/dist-packages (from imageio) (7.1.2)\n",
            "Requirement already satisfied: numpy in /usr/local/lib/python3.7/dist-packages (from imageio) (1.19.5)\n"
          ]
        }
      ]
    },
    {
      "cell_type": "markdown",
      "metadata": {
        "id": "NaMlw_vP0kc1"
      },
      "source": [
        "Upload the dataset from github"
      ]
    },
    {
      "cell_type": "code",
      "metadata": {
        "id": "PLbfOFEX0qaQ",
        "outputId": "2f96a63a-2a05-43de-ef3d-6dfd85b9a633",
        "colab": {
          "base_uri": "https://localhost:8080/"
        }
      },
      "source": [
        "!wget --no-check-certificate \\\n",
        "    \"https://github.com/tangsanli5201/DeepPCB/archive/refs/heads/master.zip\" \\\n",
        "    -O \"/tmp/DeepPCB.zip\""
      ],
      "execution_count": 2,
      "outputs": [
        {
          "output_type": "stream",
          "name": "stdout",
          "text": [
            "--2021-09-22 22:13:16--  https://github.com/tangsanli5201/DeepPCB/archive/refs/heads/master.zip\n",
            "Resolving github.com (github.com)... 140.82.114.4\n",
            "Connecting to github.com (github.com)|140.82.114.4|:443... connected.\n",
            "HTTP request sent, awaiting response... 302 Found\n",
            "Location: https://codeload.github.com/tangsanli5201/DeepPCB/zip/refs/heads/master [following]\n",
            "--2021-09-22 22:13:16--  https://codeload.github.com/tangsanli5201/DeepPCB/zip/refs/heads/master\n",
            "Resolving codeload.github.com (codeload.github.com)... 140.82.113.9\n",
            "Connecting to codeload.github.com (codeload.github.com)|140.82.113.9|:443... connected.\n",
            "HTTP request sent, awaiting response... 200 OK\n",
            "Length: unspecified [application/zip]\n",
            "Saving to: ‘/tmp/DeepPCB.zip’\n",
            "\n",
            "/tmp/DeepPCB.zip        [           <=>      ]  86.79M  19.8MB/s    in 4.4s    \n",
            "\n",
            "2021-09-22 22:13:21 (19.5 MB/s) - ‘/tmp/DeepPCB.zip’ saved [91004517]\n",
            "\n"
          ]
        }
      ]
    },
    {
      "cell_type": "markdown",
      "metadata": {
        "id": "VD_7PDDdMqmt"
      },
      "source": [
        "# Libraries\n",
        "\n",
        "---\n",
        "\n"
      ]
    },
    {
      "cell_type": "code",
      "metadata": {
        "id": "D-NpfybtNLpk"
      },
      "source": [
        "import matplotlib as plt\n",
        "import tensorflow as tf\n",
        "import pandas as pd\n",
        "import cv2 as cv\n",
        "import zipfile\n",
        "import imageio\n",
        "import imgaug\n",
        "import torch\n",
        "import PIL\n",
        "import os"
      ],
      "execution_count": 3,
      "outputs": []
    },
    {
      "cell_type": "markdown",
      "metadata": {
        "id": "r53MtjPa088a"
      },
      "source": [
        "Extract Dataset from zip"
      ]
    },
    {
      "cell_type": "code",
      "metadata": {
        "id": "By2jZ5zo06Bs"
      },
      "source": [
        "zip_format = zipfile.ZipFile('/tmp/DeepPCB.zip','r')\n",
        "zip_format.extractall('/tmp')\n",
        "zip_format.close()"
      ],
      "execution_count": 4,
      "outputs": []
    },
    {
      "cell_type": "code",
      "metadata": {
        "id": "C0r4ncgbknyz"
      },
      "source": [
        "directory = '/tmp/DeepPCB-master/PCBData/'\n",
        "\n",
        "train_val_paths = pd.read_csv(directory + 'trainval.txt', delimiter = \" \",header= None)\n",
        "test_paths = pd.read_csv(directory + 'test.txt', delimiter = \" \", header= None)"
      ],
      "execution_count": 36,
      "outputs": []
    },
    {
      "cell_type": "code",
      "metadata": {
        "id": "93Z6MT2flfzi"
      },
      "source": [
        "train_txt_files = train_val_paths[1][700:].values\n",
        "val_txt_files = train_val_paths[1][:-300].values\n",
        "test_txt_files = test_paths[1].values"
      ],
      "execution_count": 37,
      "outputs": []
    },
    {
      "cell_type": "code",
      "metadata": {
        "id": "hYQ7F3cJn4OV"
      },
      "source": [
        "train_imgs_path = train_val_paths[0][700:].values\n",
        "val_imgs_path = train_val_paths[0][:-300].values\n",
        "test_imgs_path = test_paths[0].values"
      ],
      "execution_count": 44,
      "outputs": []
    },
    {
      "cell_type": "code",
      "metadata": {
        "id": "av9Ny3jxoo9A",
        "outputId": "3b1913fa-fbc8-47ba-868f-cc22b63b994f",
        "colab": {
          "base_uri": "https://localhost:8080/"
        }
      },
      "source": [
        ""
      ],
      "execution_count": 46,
      "outputs": [
        {
          "output_type": "execute_result",
          "data": {
            "text/plain": [
              "array(['group20085/20085/20085292.jpg', 'group20085/20085/20085293.jpg',\n",
              "       'group20085/20085/20085294.jpg', 'group20085/20085/20085295.jpg',\n",
              "       'group20085/20085/20085296.jpg'], dtype=object)"
            ]
          },
          "metadata": {},
          "execution_count": 46
        }
      ]
    }
  ]
}