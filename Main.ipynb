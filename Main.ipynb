{
  "nbformat": 4,
  "nbformat_minor": 0,
  "metadata": {
    "colab": {
      "name": "Main.ipynb",
      "provenance": [],
      "authorship_tag": "ABX9TyPK5FaulCcWz/nrWEEM4rQf",
      "include_colab_link": true
    },
    "kernelspec": {
      "name": "python3",
      "display_name": "Python 3"
    },
    "language_info": {
      "name": "python"
    }
  },
  "cells": [
    {
      "cell_type": "markdown",
      "metadata": {
        "id": "view-in-github",
        "colab_type": "text"
      },
      "source": [
        "<a href=\"https://colab.research.google.com/github/Nastarii/PCB-defect-detection/blob/main/Main.ipynb\" target=\"_parent\"><img src=\"https://colab.research.google.com/assets/colab-badge.svg\" alt=\"Open In Colab\"/></a>"
      ]
    },
    {
      "cell_type": "markdown",
      "metadata": {
        "id": "uQRyLDI40RkL"
      },
      "source": [
        "# Configuration"
      ]
    },
    {
      "cell_type": "code",
      "metadata": {
        "colab": {
          "base_uri": "https://localhost:8080/"
        },
        "id": "QG8Ude1d0Zic",
        "outputId": "0750fe4a-486a-4ce3-8dfe-a9ceddd7ac4f"
      },
      "source": [
        "!pip install imageio"
      ],
      "execution_count": 1,
      "outputs": [
        {
          "output_type": "stream",
          "name": "stdout",
          "text": [
            "Requirement already satisfied: imageio in /usr/local/lib/python3.7/dist-packages (2.4.1)\n",
            "Requirement already satisfied: pillow in /usr/local/lib/python3.7/dist-packages (from imageio) (7.1.2)\n",
            "Requirement already satisfied: numpy in /usr/local/lib/python3.7/dist-packages (from imageio) (1.19.5)\n"
          ]
        }
      ]
    },
    {
      "cell_type": "markdown",
      "metadata": {
        "id": "NaMlw_vP0kc1"
      },
      "source": [
        "Upload the dataset from github"
      ]
    },
    {
      "cell_type": "code",
      "metadata": {
        "id": "PLbfOFEX0qaQ"
      },
      "source": [
        "!wget --no-check-certificate \\\n",
        "    \"https://github.com/tangsanli5201/DeepPCB/archive/refs/heads/master.zip\" \\\n",
        "    -O \"/tmp/DeepPCB.zip\""
      ],
      "execution_count": null,
      "outputs": []
    },
    {
      "cell_type": "markdown",
      "metadata": {
        "id": "VD_7PDDdMqmt"
      },
      "source": [
        "# Libraries\n",
        "\n",
        "---\n",
        "\n"
      ]
    },
    {
      "cell_type": "code",
      "metadata": {
        "id": "D-NpfybtNLpk"
      },
      "source": [
        "import matplotlib as plt\n",
        "import tensorflow as tf\n",
        "import pandas as pd\n",
        "import cv2 as cv\n",
        "import zipfile\n",
        "import imageio\n",
        "import imgaug\n",
        "import torch\n",
        "import PIL\n",
        "import os"
      ],
      "execution_count": 2,
      "outputs": []
    },
    {
      "cell_type": "markdown",
      "metadata": {
        "id": "r53MtjPa088a"
      },
      "source": [
        "Extract Dataset from zip"
      ]
    },
    {
      "cell_type": "code",
      "metadata": {
        "id": "By2jZ5zo06Bs"
      },
      "source": [
        "zip_format = zipfile.ZipFile('/tmp/DeepPCB.zip','r')\n",
        "zip_format.extractall('/tmp')\n",
        "zip_format.close()"
      ],
      "execution_count": null,
      "outputs": []
    }
  ]
}