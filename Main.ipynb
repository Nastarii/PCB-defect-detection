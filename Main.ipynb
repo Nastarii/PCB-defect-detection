{
  "nbformat": 4,
  "nbformat_minor": 0,
  "metadata": {
    "colab": {
      "name": "Main.ipynb",
      "provenance": [],
      "authorship_tag": "ABX9TyMwM2XixXI0tLVfeLXHE174",
      "include_colab_link": true
    },
    "kernelspec": {
      "name": "python3",
      "display_name": "Python 3"
    },
    "language_info": {
      "name": "python"
    }
  },
  "cells": [
    {
      "cell_type": "markdown",
      "metadata": {
        "id": "view-in-github",
        "colab_type": "text"
      },
      "source": [
        "<a href=\"https://colab.research.google.com/github/Nastarii/PCB-defect-detection/blob/main/Main.ipynb\" target=\"_parent\"><img src=\"https://colab.research.google.com/assets/colab-badge.svg\" alt=\"Open In Colab\"/></a>"
      ]
    },
    {
      "cell_type": "markdown",
      "metadata": {
        "id": "uQRyLDI40RkL"
      },
      "source": [
        "# Configuration"
      ]
    },
    {
      "cell_type": "code",
      "metadata": {
        "colab": {
          "base_uri": "https://localhost:8080/"
        },
        "id": "QG8Ude1d0Zic",
        "outputId": "9edab0e3-d723-4d15-8af9-10cd3aed525d"
      },
      "source": [
        "!pip install imageio"
      ],
      "execution_count": 1,
      "outputs": [
        {
          "output_type": "stream",
          "name": "stdout",
          "text": [
            "Requirement already satisfied: imageio in /usr/local/lib/python3.7/dist-packages (2.4.1)\n",
            "Requirement already satisfied: numpy in /usr/local/lib/python3.7/dist-packages (from imageio) (1.19.5)\n",
            "Requirement already satisfied: pillow in /usr/local/lib/python3.7/dist-packages (from imageio) (7.1.2)\n"
          ]
        }
      ]
    },
    {
      "cell_type": "markdown",
      "metadata": {
        "id": "NaMlw_vP0kc1"
      },
      "source": [
        "Upload the dataset from github"
      ]
    },
    {
      "cell_type": "code",
      "metadata": {
        "id": "PLbfOFEX0qaQ",
        "colab": {
          "base_uri": "https://localhost:8080/"
        },
        "outputId": "8d7c9ad0-17b5-4d1a-c7b4-52cc796a100a"
      },
      "source": [
        "!wget --no-check-certificate \\\n",
        "    \"https://github.com/tangsanli5201/DeepPCB/archive/refs/heads/master.zip\" \\\n",
        "    -O \"/tmp/DeepPCB.zip\""
      ],
      "execution_count": 2,
      "outputs": [
        {
          "output_type": "stream",
          "name": "stdout",
          "text": [
            "--2021-09-23 10:45:55--  https://github.com/tangsanli5201/DeepPCB/archive/refs/heads/master.zip\n",
            "Resolving github.com (github.com)... 140.82.113.4\n",
            "Connecting to github.com (github.com)|140.82.113.4|:443... connected.\n",
            "HTTP request sent, awaiting response... 302 Found\n",
            "Location: https://codeload.github.com/tangsanli5201/DeepPCB/zip/refs/heads/master [following]\n",
            "--2021-09-23 10:45:55--  https://codeload.github.com/tangsanli5201/DeepPCB/zip/refs/heads/master\n",
            "Resolving codeload.github.com (codeload.github.com)... 140.82.114.10\n",
            "Connecting to codeload.github.com (codeload.github.com)|140.82.114.10|:443... connected.\n",
            "HTTP request sent, awaiting response... 200 OK\n",
            "Length: unspecified [application/zip]\n",
            "Saving to: ‘/tmp/DeepPCB.zip’\n",
            "\n",
            "/tmp/DeepPCB.zip        [             <=>    ]  86.79M  20.4MB/s    in 4.2s    \n",
            "\n",
            "2021-09-23 10:45:59 (20.7 MB/s) - ‘/tmp/DeepPCB.zip’ saved [91004517]\n",
            "\n"
          ]
        }
      ]
    },
    {
      "cell_type": "markdown",
      "metadata": {
        "id": "VD_7PDDdMqmt"
      },
      "source": [
        "# Libraries\n",
        "\n",
        "---\n",
        "\n"
      ]
    },
    {
      "cell_type": "code",
      "metadata": {
        "id": "D-NpfybtNLpk"
      },
      "source": [
        "import matplotlib.pyplot as plt\n",
        "import tensorflow as tf\n",
        "import pandas as pd\n",
        "import numpy as np\n",
        "import cv2 as cv\n",
        "import zipfile\n",
        "import imageio\n",
        "import imgaug\n",
        "import torch\n",
        "import PIL\n",
        "import os"
      ],
      "execution_count": 3,
      "outputs": []
    },
    {
      "cell_type": "markdown",
      "metadata": {
        "id": "r53MtjPa088a"
      },
      "source": [
        "#Extract Dataset from zip"
      ]
    },
    {
      "cell_type": "code",
      "metadata": {
        "id": "By2jZ5zo06Bs"
      },
      "source": [
        "zip_format = zipfile.ZipFile('/tmp/DeepPCB.zip','r')\n",
        "zip_format.extractall('/tmp')\n",
        "zip_format.close()"
      ],
      "execution_count": 4,
      "outputs": []
    },
    {
      "cell_type": "markdown",
      "metadata": {
        "id": "0Sv2CmmRKH2U"
      },
      "source": [
        "# Split Train and Test set"
      ]
    },
    {
      "cell_type": "code",
      "metadata": {
        "id": "C0r4ncgbknyz"
      },
      "source": [
        "directory = '/tmp/DeepPCB-master/PCBData/'\n",
        "\n",
        "train_val_paths = pd.read_csv(directory + 'trainval.txt', delimiter = \" \",header= None)\n",
        "test_paths = pd.read_csv(directory + 'test.txt', delimiter = \" \", header= None)"
      ],
      "execution_count": 5,
      "outputs": []
    },
    {
      "cell_type": "code",
      "metadata": {
        "id": "93Z6MT2flfzi"
      },
      "source": [
        "train_txt_files = train_val_paths[1][800:].values\n",
        "val_txt_files = train_val_paths[1][:-200].values\n",
        "test_txt_files = test_paths[1].values"
      ],
      "execution_count": 27,
      "outputs": []
    },
    {
      "cell_type": "code",
      "metadata": {
        "id": "hYQ7F3cJn4OV"
      },
      "source": [
        "train_imgs_path = train_val_paths[0][800:].values\n",
        "val_imgs_path = train_val_paths[0][:-200].values\n",
        "test_imgs_path = test_paths[0].values"
      ],
      "execution_count": 28,
      "outputs": []
    },
    {
      "cell_type": "code",
      "metadata": {
        "id": "av9Ny3jxoo9A"
      },
      "source": [
        "train_imgs_path_test = [i.replace('.jpg','_test.jpg') for i in train_imgs_path]\n",
        "train_imgs_path_temp = [i.replace('.jpg','_temp.jpg') for i in train_imgs_path]"
      ],
      "execution_count": 8,
      "outputs": []
    },
    {
      "cell_type": "markdown",
      "metadata": {
        "id": "p1X9dtjgPl7g"
      },
      "source": [
        "# Read images"
      ]
    },
    {
      "cell_type": "code",
      "metadata": {
        "id": "F3OCEUfXSWw_",
        "colab": {
          "base_uri": "https://localhost:8080/",
          "height": 284
        },
        "outputId": "4d8e59f8-7b45-4005-f110-70216a48de4c"
      },
      "source": [
        "%matplotlib inline\n",
        "\n",
        "image = PIL.Image.open(directory + 'group77000/77000/77000012_test.jpg')\n",
        "crop_area = [365,128,396,167]\n",
        "image = image.crop(crop_area)\n",
        "plt.imshow(np.asarray(image))"
      ],
      "execution_count": 17,
      "outputs": [
        {
          "output_type": "execute_result",
          "data": {
            "text/plain": [
              "<matplotlib.image.AxesImage at 0x7fc6e3870990>"
            ]
          },
          "metadata": {},
          "execution_count": 17
        },
        {
          "output_type": "display_data",
          "data": {
            "image/png": "[encoded data removed]",
            "text/plain": [
              "<Figure size 432x288 with 1 Axes>"
            ]
          },
          "metadata": {
            "needs_background": "light"
          }
        }
      ]
    },
    {
      "cell_type": "markdown",
      "metadata": {
        "id": "a0SkvZrsKYLk"
      },
      "source": [
        "# Get Labels"
      ]
    },
    {
      "cell_type": "code",
      "metadata": {
        "id": "PRB9cVmgMUed",
        "outputId": "bf3eff83-cb81-45ba-c5f0-bb4a7eac84c3",
        "colab": {
          "base_uri": "https://localhost:8080/",
          "height": 202
        }
      },
      "source": [
        "txt = pd.read_csv(directory + train_txt_files[1], delimiter= \" \", header=None)\n",
        "txt"
      ],
      "execution_count": 13,
      "outputs": [
        {
          "output_type": "execute_result",
          "data": {
            "text/html": [
              "<div>\n",
              "<style scoped>\n",
              "    .dataframe tbody tr th:only-of-type {\n",
              "        vertical-align: middle;\n",
              "    }\n",
              "\n",
              "    .dataframe tbody tr th {\n",
              "        vertical-align: top;\n",
              "    }\n",
              "\n",
              "    .dataframe thead th {\n",
              "        text-align: right;\n",
              "    }\n",
              "</style>\n",
              "<table border=\"1\" class=\"dataframe\">\n",
              "  <thead>\n",
              "    <tr style=\"text-align: right;\">\n",
              "      <th></th>\n",
              "      <th>0</th>\n",
              "      <th>1</th>\n",
              "      <th>2</th>\n",
              "      <th>3</th>\n",
              "      <th>4</th>\n",
              "    </tr>\n",
              "  </thead>\n",
              "  <tbody>\n",
              "    <tr>\n",
              "      <th>0</th>\n",
              "      <td>265</td>\n",
              "      <td>207</td>\n",
              "      <td>317</td>\n",
              "      <td>252</td>\n",
              "      <td>2</td>\n",
              "    </tr>\n",
              "    <tr>\n",
              "      <th>1</th>\n",
              "      <td>365</td>\n",
              "      <td>128</td>\n",
              "      <td>396</td>\n",
              "      <td>167</td>\n",
              "      <td>4</td>\n",
              "    </tr>\n",
              "    <tr>\n",
              "      <th>2</th>\n",
              "      <td>467</td>\n",
              "      <td>232</td>\n",
              "      <td>497</td>\n",
              "      <td>264</td>\n",
              "      <td>6</td>\n",
              "    </tr>\n",
              "    <tr>\n",
              "      <th>3</th>\n",
              "      <td>240</td>\n",
              "      <td>401</td>\n",
              "      <td>287</td>\n",
              "      <td>453</td>\n",
              "      <td>5</td>\n",
              "    </tr>\n",
              "    <tr>\n",
              "      <th>4</th>\n",
              "      <td>73</td>\n",
              "      <td>601</td>\n",
              "      <td>101</td>\n",
              "      <td>639</td>\n",
              "      <td>2</td>\n",
              "    </tr>\n",
              "  </tbody>\n",
              "</table>\n",
              "</div>"
            ],
            "text/plain": [
              "     0    1    2    3  4\n",
              "0  265  207  317  252  2\n",
              "1  365  128  396  167  4\n",
              "2  467  232  497  264  6\n",
              "3  240  401  287  453  5\n",
              "4   73  601  101  639  2"
            ]
          },
          "metadata": {},
          "execution_count": 13
        }
      ]
    },
    {
      "cell_type": "markdown",
      "metadata": {
        "id": "dMOSFwWpWdTF"
      },
      "source": [
        "# Prepare Image and Labels"
      ]
    },
    {
      "cell_type": "code",
      "metadata": {
        "id": "wgHmwJIlezkx"
      },
      "source": [
        "os.makedirs('/tmp/PCBdefects')"
      ],
      "execution_count": 29,
      "outputs": []
    },
    {
      "cell_type": "code",
      "metadata": {
        "id": "_BkEgzuURoLj"
      },
      "source": [
        "count = 0\n",
        "class_labels = []\n",
        "\n",
        "for txt in train_txt_files:\n",
        "\n",
        "    read_txt = pd.read_csv(directory + txt, delimiter= \" \", header=None)\n",
        "    img_path = txt.replace(\"_not\",\"\").replace(\".txt\",\"_test.jpg\")\n",
        "\n",
        "    for i in range (len(read_txt)):\n",
        "\n",
        "        label = read_txt.iloc[i][4]\n",
        "        class_labels.append(label)\n",
        "\n",
        "        crop_area = read_txt.iloc[i][:4]\n",
        "        image = PIL.Image.open(directory + img_path)\n",
        "        image = image.crop(crop_area)\n",
        "        image.save('/tmp/PCBdefects/defect' + str(count) + '_' + str(label) + '.jpg')\n",
        "        count = count + 1"
      ],
      "execution_count": 36,
      "outputs": []
    },
    {
      "cell_type": "code",
      "metadata": {
        "id": "13A694KwjJ8l",
        "outputId": "a869d432-66c7-4738-9313-9bfcb0402935",
        "colab": {
          "base_uri": "https://localhost:8080/"
        }
      },
      "source": [
        ""
      ],
      "execution_count": 38,
      "outputs": [
        {
          "output_type": "execute_result",
          "data": {
            "text/plain": [
              "1"
            ]
          },
          "metadata": {},
          "execution_count": 38
        }
      ]
    }
  ]
}