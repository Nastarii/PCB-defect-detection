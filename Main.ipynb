{
  "nbformat": 4,
  "nbformat_minor": 0,
  "metadata": {
    "colab": {
      "name": "Main.ipynb",
      "provenance": [],
      "authorship_tag": "ABX9TyPfBcY4Mx9iPvISC8HmrW6G",
      "include_colab_link": true
    },
    "kernelspec": {
      "name": "python3",
      "display_name": "Python 3"
    },
    "language_info": {
      "name": "python"
    }
  },
  "cells": [
    {
      "cell_type": "markdown",
      "metadata": {
        "id": "view-in-github",
        "colab_type": "text"
      },
      "source": [
        "<a href=\"https://colab.research.google.com/github/Nastarii/PCB-defect-detection/blob/main/Main.ipynb\" target=\"_parent\"><img src=\"https://colab.research.google.com/assets/colab-badge.svg\" alt=\"Open In Colab\"/></a>"
      ]
    },
    {
      "cell_type": "markdown",
      "metadata": {
        "id": "uQRyLDI40RkL"
      },
      "source": [
        "# Configuration"
      ]
    },
    {
      "cell_type": "code",
      "metadata": {
        "colab": {
          "base_uri": "https://localhost:8080/"
        },
        "id": "QG8Ude1d0Zic",
        "outputId": "714182d0-ff18-422e-b80b-b7a3d747f5a7"
      },
      "source": [
        "!pip install imageio"
      ],
      "execution_count": 1,
      "outputs": [
        {
          "output_type": "stream",
          "name": "stdout",
          "text": [
            "Requirement already satisfied: imageio in /usr/local/lib/python3.7/dist-packages (2.4.1)\n",
            "Requirement already satisfied: pillow in /usr/local/lib/python3.7/dist-packages (from imageio) (7.1.2)\n",
            "Requirement already satisfied: numpy in /usr/local/lib/python3.7/dist-packages (from imageio) (1.19.5)\n"
          ]
        }
      ]
    },
    {
      "cell_type": "markdown",
      "metadata": {
        "id": "NaMlw_vP0kc1"
      },
      "source": [
        "Upload the dataset from github"
      ]
    },
    {
      "cell_type": "code",
      "metadata": {
        "id": "PLbfOFEX0qaQ",
        "colab": {
          "base_uri": "https://localhost:8080/"
        },
        "outputId": "d1e8f1a0-f7c6-4b3e-ae39-a660edda1300"
      },
      "source": [
        "!wget --no-check-certificate \\\n",
        "    \"https://github.com/tangsanli5201/DeepPCB/archive/refs/heads/master.zip\" \\\n",
        "    -O \"/tmp/DeepPCB.zip\""
      ],
      "execution_count": 2,
      "outputs": [
        {
          "output_type": "stream",
          "name": "stdout",
          "text": [
            "--2021-09-23 00:56:20--  https://github.com/tangsanli5201/DeepPCB/archive/refs/heads/master.zip\n",
            "Resolving github.com (github.com)... 140.82.113.4\n",
            "Connecting to github.com (github.com)|140.82.113.4|:443... connected.\n",
            "HTTP request sent, awaiting response... 302 Found\n",
            "Location: https://codeload.github.com/tangsanli5201/DeepPCB/zip/refs/heads/master [following]\n",
            "--2021-09-23 00:56:20--  https://codeload.github.com/tangsanli5201/DeepPCB/zip/refs/heads/master\n",
            "Resolving codeload.github.com (codeload.github.com)... 140.82.113.9\n",
            "Connecting to codeload.github.com (codeload.github.com)|140.82.113.9|:443... connected.\n",
            "HTTP request sent, awaiting response... 200 OK\n",
            "Length: unspecified [application/zip]\n",
            "Saving to: ‘/tmp/DeepPCB.zip’\n",
            "\n",
            "/tmp/DeepPCB.zip        [            <=>     ]  86.79M  20.3MB/s    in 4.3s    \n",
            "\n",
            "2021-09-23 00:56:25 (20.3 MB/s) - ‘/tmp/DeepPCB.zip’ saved [91004517]\n",
            "\n"
          ]
        }
      ]
    },
    {
      "cell_type": "markdown",
      "metadata": {
        "id": "VD_7PDDdMqmt"
      },
      "source": [
        "# Libraries\n",
        "\n",
        "---\n",
        "\n"
      ]
    },
    {
      "cell_type": "code",
      "metadata": {
        "id": "D-NpfybtNLpk"
      },
      "source": [
        "import matplotlib.pyplot as plt\n",
        "import tensorflow as tf\n",
        "import pandas as pd\n",
        "import numpy as np\n",
        "import cv2 as cv\n",
        "import zipfile\n",
        "import imageio\n",
        "import imgaug\n",
        "import torch\n",
        "import PIL\n",
        "import os"
      ],
      "execution_count": 42,
      "outputs": []
    },
    {
      "cell_type": "markdown",
      "metadata": {
        "id": "r53MtjPa088a"
      },
      "source": [
        "#Extract Dataset from zip"
      ]
    },
    {
      "cell_type": "code",
      "metadata": {
        "id": "By2jZ5zo06Bs"
      },
      "source": [
        "zip_format = zipfile.ZipFile('/tmp/DeepPCB.zip','r')\n",
        "zip_format.extractall('/tmp')\n",
        "zip_format.close()"
      ],
      "execution_count": 110,
      "outputs": []
    },
    {
      "cell_type": "markdown",
      "metadata": {
        "id": "0Sv2CmmRKH2U"
      },
      "source": [
        "# Split Train and Test set"
      ]
    },
    {
      "cell_type": "code",
      "metadata": {
        "id": "C0r4ncgbknyz"
      },
      "source": [
        "directory = '/tmp/DeepPCB-master/PCBData/'\n",
        "\n",
        "train_val_paths = pd.read_csv(directory + 'trainval.txt', delimiter = \" \",header= None)\n",
        "test_paths = pd.read_csv(directory + 'test.txt', delimiter = \" \", header= None)"
      ],
      "execution_count": 111,
      "outputs": []
    },
    {
      "cell_type": "code",
      "metadata": {
        "id": "93Z6MT2flfzi"
      },
      "source": [
        "train_txt_files = train_val_paths[1][700:].values\n",
        "val_txt_files = train_val_paths[1][:-300].values\n",
        "test_txt_files = test_paths[1].values"
      ],
      "execution_count": 112,
      "outputs": []
    },
    {
      "cell_type": "code",
      "metadata": {
        "id": "hYQ7F3cJn4OV"
      },
      "source": [
        "train_imgs_path = train_val_paths[0][700:].values\n",
        "val_imgs_path = train_val_paths[0][:-300].values\n",
        "test_imgs_path = test_paths[0].values"
      ],
      "execution_count": 113,
      "outputs": []
    },
    {
      "cell_type": "code",
      "metadata": {
        "id": "av9Ny3jxoo9A"
      },
      "source": [
        "train_imgs_path_test = [i.replace('.jpg','_test.jpg') for i in train_imgs_path]\n",
        "train_imgs_path_temp = [i.replace('.jpg','_temp.jpg') for i in train_imgs_path]"
      ],
      "execution_count": 114,
      "outputs": []
    },
    {
      "cell_type": "markdown",
      "metadata": {
        "id": "p1X9dtjgPl7g"
      },
      "source": [
        "# Read images"
      ]
    },
    {
      "cell_type": "code",
      "metadata": {
        "id": "F3OCEUfXSWw_",
        "outputId": "b4fc55b4-8889-4a82-908c-052df98b1503",
        "colab": {
          "base_uri": "https://localhost:8080/",
          "height": 283
        }
      },
      "source": [
        "%matplotlib inline\n",
        "\n",
        "image = PIL.Image.open(directory + 'group77000/77000/77000012_test.jpg')\n",
        "image = image.crop((265,207,317,252))\n",
        "plt.imshow(np.asarray(image))"
      ],
      "execution_count": 117,
      "outputs": [
        {
          "output_type": "execute_result",
          "data": {
            "text/plain": [
              "<matplotlib.image.AxesImage at 0x7fbc4f5ec710>"
            ]
          },
          "metadata": {},
          "execution_count": 117
        },
        {
          "output_type": "display_data",
          "data": {
            "image/png": "[encoded data removed]",
            "text/plain": [
              "<Figure size 432x288 with 1 Axes>"
            ]
          },
          "metadata": {
            "needs_background": "light"
          }
        }
      ]
    },
    {
      "cell_type": "markdown",
      "metadata": {
        "id": "a0SkvZrsKYLk"
      },
      "source": [
        "# Get Labels"
      ]
    },
    {
      "cell_type": "code",
      "metadata": {
        "id": "PRB9cVmgMUed"
      },
      "source": [
        "txt = pd.read_csv(directory + train_txt_files[2], delimiter= \" \", header=None)"
      ],
      "execution_count": 127,
      "outputs": []
    },
    {
      "cell_type": "markdown",
      "metadata": {
        "id": "dMOSFwWpWdTF"
      },
      "source": [
        "# Prepare Image and Labels"
      ]
    },
    {
      "cell_type": "code",
      "metadata": {
        "id": "1LnrP35sYKqJ"
      },
      "source": [
        "count = 0\n",
        "\n",
        "for i in train_imgs_path_test:\n",
        "    image = PIL.Image.open(directory + i)\n",
        "    areas = pd.read_csv(directory + train_txt_files[count], delimiter= \" \",header=None)\n",
        "    for area in area.rows:\n",
        "        image.crop()\n",
        "    count = count + 1"
      ],
      "execution_count": null,
      "outputs": []
    }
  ]
}