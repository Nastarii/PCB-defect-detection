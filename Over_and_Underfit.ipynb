{
  "nbformat": 4,
  "nbformat_minor": 0,
  "metadata": {
    "colab": {
      "name": "Over and Underfit.ipynb",
      "provenance": [],
      "collapsed_sections": [],
      "authorship_tag": "ABX9TyPnG5F0hTdDM249Dv3FW45U",
      "include_colab_link": true
    },
    "kernelspec": {
      "name": "python3",
      "display_name": "Python 3"
    },
    "language_info": {
      "name": "python"
    }
  },
  "cells": [
    {
      "cell_type": "markdown",
      "metadata": {
        "id": "view-in-github",
        "colab_type": "text"
      },
      "source": [
        "<a href=\"https://colab.research.google.com/github/Nastarii/PCB-defect-detection/blob/1set/Over_and_Underfit.ipynb\" target=\"_parent\"><img src=\"https://colab.research.google.com/assets/colab-badge.svg\" alt=\"Open In Colab\"/></a>"
      ]
    },
    {
      "cell_type": "markdown",
      "metadata": {
        "id": "DsdJP5BWUmrK"
      },
      "source": [
        "#Configuration"
      ]
    },
    {
      "cell_type": "code",
      "metadata": {
        "colab": {
          "base_uri": "https://localhost:8080/"
        },
        "id": "ybLxseiAUqom",
        "outputId": "fb2663db-8df8-494c-d10d-3f84efb40e8c"
      },
      "source": [
        "import tensorflow as tf\n",
        "\n",
        "from tensorflow.keras import layers\n",
        "from tensorflow.keras import regularizers\n",
        "\n",
        "print(tf.__version__)"
      ],
      "execution_count": 1,
      "outputs": [
        {
          "output_type": "stream",
          "name": "stdout",
          "text": [
            "2.6.0\n"
          ]
        }
      ]
    },
    {
      "cell_type": "code",
      "metadata": {
        "colab": {
          "base_uri": "https://localhost:8080/"
        },
        "id": "Yfj9pl_MUvrK",
        "outputId": "5186c200-aa7f-4a34-d35d-ba0e2061db6f"
      },
      "source": [
        "!pip install git+https://github.com/tensorflow/docs"
      ],
      "execution_count": 2,
      "outputs": [
        {
          "output_type": "stream",
          "name": "stdout",
          "text": [
            "Collecting git+https://github.com/tensorflow/docs\n",
            "  Cloning https://github.com/tensorflow/docs to /tmp/pip-req-build-wvxs6qvb\n",
            "  Running command git clone -q https://github.com/tensorflow/docs /tmp/pip-req-build-wvxs6qvb\n",
            "Requirement already satisfied: astor in /usr/local/lib/python3.7/dist-packages (from tensorflow-docs===0.0.012eaa398500ba825f499a42871468b853e6568ab-) (0.8.1)\n",
            "Requirement already satisfied: absl-py in /usr/local/lib/python3.7/dist-packages (from tensorflow-docs===0.0.012eaa398500ba825f499a42871468b853e6568ab-) (0.12.0)\n",
            "Requirement already satisfied: protobuf>=3.14 in /usr/local/lib/python3.7/dist-packages (from tensorflow-docs===0.0.012eaa398500ba825f499a42871468b853e6568ab-) (3.17.3)\n",
            "Requirement already satisfied: pyyaml in /usr/local/lib/python3.7/dist-packages (from tensorflow-docs===0.0.012eaa398500ba825f499a42871468b853e6568ab-) (3.13)\n",
            "Requirement already satisfied: six>=1.9 in /usr/local/lib/python3.7/dist-packages (from protobuf>=3.14->tensorflow-docs===0.0.012eaa398500ba825f499a42871468b853e6568ab-) (1.15.0)\n",
            "Building wheels for collected packages: tensorflow-docs\n",
            "  Building wheel for tensorflow-docs (setup.py) ... \u001b[?25l\u001b[?25hdone\n",
            "  Created wheel for tensorflow-docs: filename=tensorflow_docs-0.0.012eaa398500ba825f499a42871468b853e6568ab_-py3-none-any.whl size=154607 sha256=a94fdd68ffc823196ea4cdba3cd55bd6930833ac224f823c037c2e32ead0f6f8\n",
            "  Stored in directory: /tmp/pip-ephem-wheel-cache-37gxj5hg/wheels/cc/c4/d8/5341e93b6376c5c929c49469fce21155eb69cef1a4da4ce32c\n",
            "\u001b[33m  WARNING: Built wheel for tensorflow-docs is invalid: Metadata 1.2 mandates PEP 440 version, but '0.0.012eaa398500ba825f499a42871468b853e6568ab-' is not\u001b[0m\n",
            "Failed to build tensorflow-docs\n",
            "Installing collected packages: tensorflow-docs\n",
            "    Running setup.py install for tensorflow-docs ... \u001b[?25l\u001b[?25hdone\n",
            "\u001b[33m  DEPRECATION: tensorflow-docs was installed using the legacy 'setup.py install' method, because a wheel could not be built for it. A possible replacement is to fix the wheel build issue reported above. You can find discussion regarding this at https://github.com/pypa/pip/issues/8368.\u001b[0m\n",
            "Successfully installed tensorflow-docs-0.0.012eaa398500ba825f499a42871468b853e6568ab-\n"
          ]
        }
      ]
    },
    {
      "cell_type": "code",
      "metadata": {
        "id": "TBqd8-VdU2YW"
      },
      "source": [
        "import tensorflow_docs as tfdocs\n",
        "import tensorflow_docs.modeling\n",
        "import tensorflow_docs.plots\n",
        "from  IPython import display\n",
        "from matplotlib import pyplot as plt\n",
        "\n",
        "import numpy as np\n",
        "\n",
        "import pathlib\n",
        "import shutil\n",
        "import tempfile"
      ],
      "execution_count": 3,
      "outputs": []
    },
    {
      "cell_type": "code",
      "metadata": {
        "id": "4F91jgoNU9Qg"
      },
      "source": [
        "logdir = pathlib.Path(tempfile.mkdtemp())/\"tensorboard_logs\"\n",
        "shutil.rmtree(logdir, ignore_errors=True)"
      ],
      "execution_count": 4,
      "outputs": []
    },
    {
      "cell_type": "markdown",
      "metadata": {
        "id": "9Ak14ZjzVJkL"
      },
      "source": [
        "# Preparing Dataset"
      ]
    },
    {
      "cell_type": "code",
      "metadata": {
        "colab": {
          "base_uri": "https://localhost:8080/"
        },
        "id": "H_FL6OjTVL4k",
        "outputId": "fd24ab02-867b-4287-cd98-b3b6f452b69e"
      },
      "source": [
        "gz = tf.keras.utils.get_file('HIGGS.csv.gz', 'http://mlphysics.ics.uci.edu/data/higgs/HIGGS.csv.gz')"
      ],
      "execution_count": 5,
      "outputs": [
        {
          "output_type": "stream",
          "name": "stdout",
          "text": [
            "Downloading data from http://mlphysics.ics.uci.edu/data/higgs/HIGGS.csv.gz\n",
            "2816409600/2816407858 [==============================] - 41s 0us/step\n",
            "2816417792/2816407858 [==============================] - 41s 0us/step\n"
          ]
        }
      ]
    },
    {
      "cell_type": "code",
      "metadata": {
        "id": "dLIkekfbWRDD"
      },
      "source": [
        "FEATURES = 28\n",
        "ds = tf.data.experimental.CsvDataset(gz,[float(),]*(FEATURES+1), compression_type=\"GZIP\")"
      ],
      "execution_count": 7,
      "outputs": []
    },
    {
      "cell_type": "code",
      "metadata": {
        "id": "sEBSpYw4XE6H"
      },
      "source": [
        "def pack_row(*row):\n",
        "  label = row[0]\n",
        "  features = tf.stack(row[1:],1)\n",
        "  return features, label"
      ],
      "execution_count": 8,
      "outputs": []
    },
    {
      "cell_type": "code",
      "metadata": {
        "id": "HMnmvx4wXHzA"
      },
      "source": [
        "packed_ds = ds.batch(10000).map(pack_row).unbatch()"
      ],
      "execution_count": 9,
      "outputs": []
    },
    {
      "cell_type": "code",
      "metadata": {
        "colab": {
          "base_uri": "https://localhost:8080/",
          "height": 367
        },
        "id": "4m73bjiaXasG",
        "outputId": "91f9b723-02d4-46b3-8905-6010d9e62912"
      },
      "source": [
        "for features,label in packed_ds.batch(1000).take(1):\n",
        "  print(features[0])\n",
        "  plt.hist(features.numpy().flatten(), bins = 101)"
      ],
      "execution_count": 10,
      "outputs": [
        {
          "output_type": "stream",
          "name": "stdout",
          "text": [
            "tf.Tensor(\n",
            "[ 0.8692932  -0.6350818   0.22569026  0.32747006 -0.6899932   0.75420225\n",
            " -0.24857314 -1.0920639   0.          1.3749921  -0.6536742   0.9303491\n",
            "  1.1074361   1.1389043  -1.5781983  -1.0469854   0.          0.65792954\n",
            " -0.01045457 -0.04576717  3.1019614   1.35376     0.9795631   0.97807616\n",
            "  0.92000484  0.72165745  0.98875093  0.87667835], shape=(28,), dtype=float32)\n"
          ]
        },
        {
          "output_type": "display_data",
          "data": {
            "image/png": "[encoded data removed]",
            "text/plain": [
              "<Figure size 432x288 with 1 Axes>"
            ]
          },
          "metadata": {
            "needs_background": "light"
          }
        }
      ]
    },
    {
      "cell_type": "markdown",
      "metadata": {
        "id": "35oFcIBfXjMv"
      },
      "source": [
        "# Train and Validation Data"
      ]
    },
    {
      "cell_type": "code",
      "metadata": {
        "id": "6FS1lshSXuy4"
      },
      "source": [
        "N_VALIDATION = int(1e3)\n",
        "N_TRAIN = int(1e4)\n",
        "BUFFER_SIZE = int(1e4)\n",
        "BATCH_SIZE = 500\n",
        "STEPS_PER_EPOCH = N_TRAIN//BATCH_SIZE"
      ],
      "execution_count": 11,
      "outputs": []
    },
    {
      "cell_type": "code",
      "metadata": {
        "id": "K9X8cCndXx6o"
      },
      "source": [
        "validate_ds = packed_ds.take(N_VALIDATION).cache()\n",
        "train_ds = packed_ds.skip(N_VALIDATION).take(N_TRAIN).cache()"
      ],
      "execution_count": 12,
      "outputs": []
    },
    {
      "cell_type": "code",
      "metadata": {
        "colab": {
          "base_uri": "https://localhost:8080/"
        },
        "id": "rhtxZaq8X15P",
        "outputId": "c8955c6f-98ad-48cb-98fd-093590cbb46e"
      },
      "source": [
        "train_ds"
      ],
      "execution_count": 13,
      "outputs": [
        {
          "output_type": "execute_result",
          "data": {
            "text/plain": [
              "<CacheDataset shapes: ((28,), ()), types: (tf.float32, tf.float32)>"
            ]
          },
          "metadata": {},
          "execution_count": 13
        }
      ]
    },
    {
      "cell_type": "code",
      "metadata": {
        "id": "-sFCfUVKX_BG"
      },
      "source": [
        "validate_ds = validate_ds.batch(BATCH_SIZE)\n",
        "train_ds = train_ds.shuffle(BUFFER_SIZE).repeat().batch(BATCH_SIZE)"
      ],
      "execution_count": 14,
      "outputs": []
    },
    {
      "cell_type": "markdown",
      "metadata": {
        "id": "f42cIClXYrUC"
      },
      "source": [
        "# Train processing"
      ]
    },
    {
      "cell_type": "code",
      "metadata": {
        "id": "6c93WDvnYtvr"
      },
      "source": [
        "lr_schedule = tf.keras.optimizers.schedules.InverseTimeDecay(\n",
        "  0.001,\n",
        "  decay_steps=STEPS_PER_EPOCH*1000,\n",
        "  decay_rate=1,\n",
        "  staircase=False)\n",
        "\n",
        "def get_optimizer():\n",
        "  return tf.keras.optimizers.Adam(lr_schedule)"
      ],
      "execution_count": 15,
      "outputs": []
    },
    {
      "cell_type": "code",
      "metadata": {
        "colab": {
          "base_uri": "https://localhost:8080/",
          "height": 388
        },
        "id": "_ivkJjh1YwK2",
        "outputId": "178b8852-0d36-4800-bd75-794e67943cf4"
      },
      "source": [
        "step = np.linspace(0,100000)\n",
        "lr = lr_schedule(step)\n",
        "plt.figure(figsize = (8,6))\n",
        "plt.plot(step/STEPS_PER_EPOCH, lr)\n",
        "plt.ylim([0,max(plt.ylim())])\n",
        "plt.xlabel('Epoch')\n",
        "_ = plt.ylabel('Learning Rate')"
      ],
      "execution_count": 16,
      "outputs": [
        {
          "output_type": "display_data",
          "data": {
            "image/png": "[encoded data removed]",
            "text/plain": [
              "<Figure size 576x432 with 1 Axes>"
            ]
          },
          "metadata": {
            "needs_background": "light"
          }
        }
      ]
    },
    {
      "cell_type": "code",
      "metadata": {
        "id": "Kxd3LNgkZs27"
      },
      "source": [
        "def get_callbacks(name):\n",
        "  return [\n",
        "    tfdocs.modeling.EpochDots(),\n",
        "    tf.keras.callbacks.EarlyStopping(monitor='val_binary_crossentropy', patience=200),\n",
        "    tf.keras.callbacks.TensorBoard(logdir/name),\n",
        "  ]"
      ],
      "execution_count": 17,
      "outputs": []
    },
    {
      "cell_type": "code",
      "metadata": {
        "id": "kDOTq5x2Zud3"
      },
      "source": [
        "def compile_and_fit(model, name, optimizer=None, max_epochs=10000):\n",
        "  if optimizer is None:\n",
        "    optimizer = get_optimizer()\n",
        "  model.compile(optimizer=optimizer,\n",
        "                loss=tf.keras.losses.BinaryCrossentropy(from_logits=True),\n",
        "                metrics=[\n",
        "                  tf.keras.losses.BinaryCrossentropy(\n",
        "                      from_logits=True, name='binary_crossentropy'),\n",
        "                  'accuracy'])\n",
        "  model.summary()\n",
        "\n",
        "  history = model.fit(\n",
        "  train_ds,\n",
        "  steps_per_epoch = STEPS_PER_EPOCH,\n",
        "  epochs=max_epochs,validation_data=validate_ds,\n",
        "  callbacks=get_callbacks(name),\n",
        "  verbose=0)\n",
        "  return history"
      ],
      "execution_count": 20,
      "outputs": []
    },
    {
      "cell_type": "markdown",
      "metadata": {
        "id": "X6TKXG60aSTw"
      },
      "source": [
        "# Tiny Model"
      ]
    },
    {
      "cell_type": "code",
      "metadata": {
        "id": "JHi_iM39aQzq"
      },
      "source": [
        "tiny_model = tf.keras.Sequential([\n",
        "    layers.Dense(16, activation='elu', input_shape=(FEATURES,)),\n",
        "    layers.Dense(1)\n",
        "])"
      ],
      "execution_count": 21,
      "outputs": []
    },
    {
      "cell_type": "code",
      "metadata": {
        "id": "wnWSZOW-aZEu"
      },
      "source": [
        "size_histories = {}"
      ],
      "execution_count": 22,
      "outputs": []
    },
    {
      "cell_type": "code",
      "metadata": {
        "colab": {
          "base_uri": "https://localhost:8080/"
        },
        "id": "k35GcNuRabgc",
        "outputId": "7d3cca0a-1b3a-47fe-8b52-589603f65b37"
      },
      "source": [
        "size_histories['Tiny'] = compile_and_fit(tiny_model, 'sizes/Tiny')"
      ],
      "execution_count": 23,
      "outputs": [
        {
          "output_type": "stream",
          "name": "stdout",
          "text": [
            "Model: \"sequential\"\n",
            "_________________________________________________________________\n",
            "Layer (type)                 Output Shape              Param #   \n",
            "=================================================================\n",
            "dense (Dense)                (None, 16)                464       \n",
            "_________________________________________________________________\n",
            "dense_1 (Dense)              (None, 1)                 17        \n",
            "=================================================================\n",
            "Total params: 481\n",
            "Trainable params: 481\n",
            "Non-trainable params: 0\n",
            "_________________________________________________________________\n",
            "WARNING:tensorflow:Callback method `on_train_batch_end` is slow compared to the batch time (batch time: 0.0025s vs `on_train_batch_end` time: 0.0097s). Check your callbacks.\n",
            "\n",
            "Epoch: 0, accuracy:0.4806,  binary_crossentropy:0.8921,  loss:0.8921,  val_accuracy:0.4720,  val_binary_crossentropy:0.8134,  val_loss:0.8134,  \n",
            "....................................................................................................\n",
            "Epoch: 100, accuracy:0.5959,  binary_crossentropy:0.6274,  loss:0.6274,  val_accuracy:0.5640,  val_binary_crossentropy:0.6354,  val_loss:0.6354,  \n",
            "....................................................................................................\n",
            "Epoch: 200, accuracy:0.6229,  binary_crossentropy:0.6131,  loss:0.6131,  val_accuracy:0.6240,  val_binary_crossentropy:0.6114,  val_loss:0.6114,  \n",
            "....................................................................................................\n",
            "Epoch: 300, accuracy:0.6481,  binary_crossentropy:0.5986,  loss:0.5986,  val_accuracy:0.6320,  val_binary_crossentropy:0.5988,  val_loss:0.5988,  \n",
            "....................................................................................................\n",
            "Epoch: 400, accuracy:0.6595,  binary_crossentropy:0.5901,  loss:0.5901,  val_accuracy:0.6380,  val_binary_crossentropy:0.5921,  val_loss:0.5921,  \n",
            "....................................................................................................\n",
            "Epoch: 500, accuracy:0.6674,  binary_crossentropy:0.5861,  loss:0.5861,  val_accuracy:0.6420,  val_binary_crossentropy:0.5897,  val_loss:0.5897,  \n",
            "....................................................................................................\n",
            "Epoch: 600, accuracy:0.6736,  binary_crossentropy:0.5826,  loss:0.5826,  val_accuracy:0.6480,  val_binary_crossentropy:0.5884,  val_loss:0.5884,  \n",
            "....................................................................................................\n",
            "Epoch: 700, accuracy:0.6735,  binary_crossentropy:0.5800,  loss:0.5800,  val_accuracy:0.6570,  val_binary_crossentropy:0.5874,  val_loss:0.5874,  \n",
            "....................................................................................................\n",
            "Epoch: 800, accuracy:0.6782,  binary_crossentropy:0.5782,  loss:0.5782,  val_accuracy:0.6520,  val_binary_crossentropy:0.5871,  val_loss:0.5871,  \n",
            "....................................................................................................\n",
            "Epoch: 900, accuracy:0.6848,  binary_crossentropy:0.5763,  loss:0.5763,  val_accuracy:0.6470,  val_binary_crossentropy:0.5884,  val_loss:0.5884,  \n",
            "....................................................................................................\n",
            "Epoch: 1000, accuracy:0.6798,  binary_crossentropy:0.5752,  loss:0.5752,  val_accuracy:0.6630,  val_binary_crossentropy:0.5837,  val_loss:0.5837,  \n",
            "....................................................................................................\n",
            "Epoch: 1100, accuracy:0.6784,  binary_crossentropy:0.5738,  loss:0.5738,  val_accuracy:0.6720,  val_binary_crossentropy:0.5828,  val_loss:0.5828,  \n",
            "....................................................................................................\n",
            "Epoch: 1200, accuracy:0.6823,  binary_crossentropy:0.5730,  loss:0.5730,  val_accuracy:0.6530,  val_binary_crossentropy:0.5841,  val_loss:0.5841,  \n",
            "....................................................................................................\n",
            "Epoch: 1300, accuracy:0.6815,  binary_crossentropy:0.5720,  loss:0.5720,  val_accuracy:0.6560,  val_binary_crossentropy:0.5831,  val_loss:0.5831,  \n",
            "....................................................................................................\n",
            "Epoch: 1400, accuracy:0.6816,  binary_crossentropy:0.5712,  loss:0.5712,  val_accuracy:0.6620,  val_binary_crossentropy:0.5827,  val_loss:0.5827,  \n",
            "....................................................................................................\n",
            "Epoch: 1500, accuracy:0.6855,  binary_crossentropy:0.5704,  loss:0.5704,  val_accuracy:0.6540,  val_binary_crossentropy:0.5828,  val_loss:0.5828,  \n",
            "....................................................................................................\n",
            "Epoch: 1600, accuracy:0.6833,  binary_crossentropy:0.5701,  loss:0.5701,  val_accuracy:0.6620,  val_binary_crossentropy:0.5825,  val_loss:0.5825,  \n",
            "....................................................................................................\n",
            "Epoch: 1700, accuracy:0.6835,  binary_crossentropy:0.5692,  loss:0.5692,  val_accuracy:0.6710,  val_binary_crossentropy:0.5813,  val_loss:0.5813,  \n",
            "....................................................................................................\n",
            "Epoch: 1800, accuracy:0.6825,  binary_crossentropy:0.5686,  loss:0.5686,  val_accuracy:0.6640,  val_binary_crossentropy:0.5819,  val_loss:0.5819,  \n",
            "....................................................................................................\n",
            "Epoch: 1900, accuracy:0.6848,  binary_crossentropy:0.5679,  loss:0.5679,  val_accuracy:0.6630,  val_binary_crossentropy:0.5818,  val_loss:0.5818,  \n",
            "....................................................................................................\n",
            "Epoch: 2000, accuracy:0.6849,  binary_crossentropy:0.5678,  loss:0.5678,  val_accuracy:0.6600,  val_binary_crossentropy:0.5827,  val_loss:0.5827,  \n",
            "....................................................................................................\n",
            "Epoch: 2100, accuracy:0.6824,  binary_crossentropy:0.5668,  loss:0.5668,  val_accuracy:0.6660,  val_binary_crossentropy:0.5808,  val_loss:0.5808,  \n",
            "......."
          ]
        }
      ]
    },
    {
      "cell_type": "code",
      "metadata": {
        "colab": {
          "base_uri": "https://localhost:8080/",
          "height": 300
        },
        "id": "o-hT89zIa99F",
        "outputId": "d583acf3-7b42-4904-eda8-07fbe026178e"
      },
      "source": [
        "plotter = tfdocs.plots.HistoryPlotter(metric = 'binary_crossentropy', smoothing_std=10)\n",
        "plotter.plot(size_histories)\n",
        "plt.ylim([0.5, 0.7])"
      ],
      "execution_count": 24,
      "outputs": [
        {
          "output_type": "execute_result",
          "data": {
            "text/plain": [
              "(0.5, 0.7)"
            ]
          },
          "metadata": {},
          "execution_count": 24
        },
        {
          "output_type": "display_data",
          "data": {
            "image/png": "[encoded data removed]",
            "text/plain": [
              "<Figure size 432x288 with 1 Axes>"
            ]
          },
          "metadata": {
            "needs_background": "light"
          }
        }
      ]
    },
    {
      "cell_type": "markdown",
      "metadata": {
        "id": "4kiCqTcDbpAb"
      },
      "source": [
        "# Small Model"
      ]
    },
    {
      "cell_type": "code",
      "metadata": {
        "id": "5CPr81_DbrNV"
      },
      "source": [
        "small_model = tf.keras.Sequential([\n",
        "    # `input_shape` is only required here so that `.summary` works.\n",
        "    layers.Dense(16, activation='elu', input_shape=(FEATURES,)),\n",
        "    layers.Dense(16, activation='elu'),\n",
        "    layers.Dense(1)\n",
        "])"
      ],
      "execution_count": 25,
      "outputs": []
    },
    {
      "cell_type": "code",
      "metadata": {
        "colab": {
          "base_uri": "https://localhost:8080/"
        },
        "id": "Et1qYA4ybt10",
        "outputId": "5418fc96-2086-4b04-c505-0296b1a16c12"
      },
      "source": [
        "size_histories['Small'] = compile_and_fit(small_model, 'sizes/Small')"
      ],
      "execution_count": 26,
      "outputs": [
        {
          "output_type": "stream",
          "name": "stdout",
          "text": [
            "Model: \"sequential_1\"\n",
            "_________________________________________________________________\n",
            "Layer (type)                 Output Shape              Param #   \n",
            "=================================================================\n",
            "dense_2 (Dense)              (None, 16)                464       \n",
            "_________________________________________________________________\n",
            "dense_3 (Dense)              (None, 16)                272       \n",
            "_________________________________________________________________\n",
            "dense_4 (Dense)              (None, 1)                 17        \n",
            "=================================================================\n",
            "Total params: 753\n",
            "Trainable params: 753\n",
            "Non-trainable params: 0\n",
            "_________________________________________________________________\n",
            "WARNING:tensorflow:Callback method `on_train_batch_end` is slow compared to the batch time (batch time: 0.0023s vs `on_train_batch_end` time: 0.0104s). Check your callbacks.\n",
            "\n",
            "Epoch: 0, accuracy:0.4848,  binary_crossentropy:0.7566,  loss:0.7566,  val_accuracy:0.4700,  val_binary_crossentropy:0.7215,  val_loss:0.7215,  \n",
            "....................................................................................................\n",
            "Epoch: 100, accuracy:0.6302,  binary_crossentropy:0.6074,  loss:0.6074,  val_accuracy:0.6150,  val_binary_crossentropy:0.6097,  val_loss:0.6097,  \n",
            "....................................................................................................\n",
            "Epoch: 200, accuracy:0.6621,  binary_crossentropy:0.5881,  loss:0.5881,  val_accuracy:0.6520,  val_binary_crossentropy:0.5998,  val_loss:0.5998,  \n",
            "....................................................................................................\n",
            "Epoch: 300, accuracy:0.6769,  binary_crossentropy:0.5770,  loss:0.5770,  val_accuracy:0.6490,  val_binary_crossentropy:0.5997,  val_loss:0.5997,  \n",
            "....................................................................................................\n",
            "Epoch: 400, accuracy:0.6828,  binary_crossentropy:0.5690,  loss:0.5690,  val_accuracy:0.6450,  val_binary_crossentropy:0.6022,  val_loss:0.6022,  \n",
            "............................."
          ]
        }
      ]
    },
    {
      "cell_type": "markdown",
      "metadata": {
        "id": "iMSE5j2Mbv0l"
      },
      "source": [
        "# Medium Model"
      ]
    },
    {
      "cell_type": "code",
      "metadata": {
        "id": "lhupEQkCbzWt"
      },
      "source": [
        "medium_model = tf.keras.Sequential([\n",
        "    layers.Dense(64, activation='elu', input_shape=(FEATURES,)),\n",
        "    layers.Dense(64, activation='elu'),\n",
        "    layers.Dense(64, activation='elu'),\n",
        "    layers.Dense(1)\n",
        "])"
      ],
      "execution_count": 27,
      "outputs": []
    },
    {
      "cell_type": "code",
      "metadata": {
        "colab": {
          "base_uri": "https://localhost:8080/"
        },
        "id": "zw_P_QCRb0-e",
        "outputId": "5c300907-db8c-4e9c-99b8-813854f228f0"
      },
      "source": [
        "size_histories['Medium']  = compile_and_fit(medium_model, \"sizes/Medium\")"
      ],
      "execution_count": 28,
      "outputs": [
        {
          "output_type": "stream",
          "name": "stdout",
          "text": [
            "Model: \"sequential_2\"\n",
            "_________________________________________________________________\n",
            "Layer (type)                 Output Shape              Param #   \n",
            "=================================================================\n",
            "dense_5 (Dense)              (None, 64)                1856      \n",
            "_________________________________________________________________\n",
            "dense_6 (Dense)              (None, 64)                4160      \n",
            "_________________________________________________________________\n",
            "dense_7 (Dense)              (None, 64)                4160      \n",
            "_________________________________________________________________\n",
            "dense_8 (Dense)              (None, 1)                 65        \n",
            "=================================================================\n",
            "Total params: 10,241\n",
            "Trainable params: 10,241\n",
            "Non-trainable params: 0\n",
            "_________________________________________________________________\n",
            "WARNING:tensorflow:Callback method `on_train_batch_end` is slow compared to the batch time (batch time: 0.0043s vs `on_train_batch_end` time: 0.0116s). Check your callbacks.\n",
            "\n",
            "Epoch: 0, accuracy:0.4839,  binary_crossentropy:0.6995,  loss:0.6995,  val_accuracy:0.5160,  val_binary_crossentropy:0.6777,  val_loss:0.6777,  \n",
            "....................................................................................................\n",
            "Epoch: 100, accuracy:0.7200,  binary_crossentropy:0.5246,  loss:0.5246,  val_accuracy:0.6610,  val_binary_crossentropy:0.6046,  val_loss:0.6046,  \n",
            "....................................................................................................\n",
            "Epoch: 200, accuracy:0.7895,  binary_crossentropy:0.4309,  loss:0.4309,  val_accuracy:0.6110,  val_binary_crossentropy:0.7074,  val_loss:0.7074,  \n",
            "..................................................................."
          ]
        }
      ]
    },
    {
      "cell_type": "markdown",
      "metadata": {
        "id": "H5YaYbdXb4fr"
      },
      "source": [
        "# Large Model"
      ]
    },
    {
      "cell_type": "code",
      "metadata": {
        "id": "KRoVOj7Zb6Yl"
      },
      "source": [
        "large_model = tf.keras.Sequential([\n",
        "    layers.Dense(512, activation='elu', input_shape=(FEATURES,)),\n",
        "    layers.Dense(512, activation='elu'),\n",
        "    layers.Dense(512, activation='elu'),\n",
        "    layers.Dense(512, activation='elu'),\n",
        "    layers.Dense(1)\n",
        "])"
      ],
      "execution_count": 29,
      "outputs": []
    },
    {
      "cell_type": "code",
      "metadata": {
        "colab": {
          "base_uri": "https://localhost:8080/"
        },
        "id": "s3M897x2b9Jb",
        "outputId": "73c6e34a-e495-422c-ebc5-5da54487a33b"
      },
      "source": [
        "size_histories['large'] = compile_and_fit(large_model, \"sizes/large\")"
      ],
      "execution_count": 30,
      "outputs": [
        {
          "output_type": "stream",
          "name": "stdout",
          "text": [
            "Model: \"sequential_3\"\n",
            "_________________________________________________________________\n",
            "Layer (type)                 Output Shape              Param #   \n",
            "=================================================================\n",
            "dense_9 (Dense)              (None, 512)               14848     \n",
            "_________________________________________________________________\n",
            "dense_10 (Dense)             (None, 512)               262656    \n",
            "_________________________________________________________________\n",
            "dense_11 (Dense)             (None, 512)               262656    \n",
            "_________________________________________________________________\n",
            "dense_12 (Dense)             (None, 512)               262656    \n",
            "_________________________________________________________________\n",
            "dense_13 (Dense)             (None, 1)                 513       \n",
            "=================================================================\n",
            "Total params: 803,329\n",
            "Trainable params: 803,329\n",
            "Non-trainable params: 0\n",
            "_________________________________________________________________\n",
            "\n",
            "Epoch: 0, accuracy:0.5063,  binary_crossentropy:0.7702,  loss:0.7702,  val_accuracy:0.5510,  val_binary_crossentropy:0.6741,  val_loss:0.6741,  \n",
            "....................................................................................................\n",
            "Epoch: 100, accuracy:1.0000,  binary_crossentropy:0.0021,  loss:0.0021,  val_accuracy:0.6530,  val_binary_crossentropy:1.8283,  val_loss:1.8283,  \n",
            "....................................................................................................\n",
            "Epoch: 200, accuracy:1.0000,  binary_crossentropy:0.0001,  loss:0.0001,  val_accuracy:0.6480,  val_binary_crossentropy:2.5089,  val_loss:2.5089,  \n",
            "........................."
          ]
        }
      ]
    },
    {
      "cell_type": "markdown",
      "metadata": {
        "id": "GUZw3VzUb_PP"
      },
      "source": [
        "# Models Performance"
      ]
    },
    {
      "cell_type": "code",
      "metadata": {
        "colab": {
          "base_uri": "https://localhost:8080/",
          "height": 304
        },
        "id": "sy8kZYKIcJNx",
        "outputId": "58785e02-801d-4a26-d481-b0bf7c1f674b"
      },
      "source": [
        "plotter.plot(size_histories)\n",
        "a = plt.xscale('log')\n",
        "plt.xlim([5, max(plt.xlim())])\n",
        "plt.ylim([0.5, 0.7])\n",
        "plt.xlabel(\"Epochs [Log Scale]\")"
      ],
      "execution_count": 31,
      "outputs": [
        {
          "output_type": "execute_result",
          "data": {
            "text/plain": [
              "Text(0.5, 0, 'Epochs [Log Scale]')"
            ]
          },
          "metadata": {},
          "execution_count": 31
        },
        {
          "output_type": "display_data",
          "data": {
            "image/png": "[encoded data removed]",
            "text/plain": [
              "<Figure size 432x288 with 1 Axes>"
            ]
          },
          "metadata": {
            "needs_background": "light"
          }
        }
      ]
    }
  ]
}