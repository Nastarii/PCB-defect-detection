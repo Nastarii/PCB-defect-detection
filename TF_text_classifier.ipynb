{
  "nbformat": 4,
  "nbformat_minor": 0,
  "metadata": {
    "colab": {
      "name": "TF_text_classifier.ipynb",
      "provenance": [],
      "collapsed_sections": [
        "MgcrFB_aXEiT",
        "eShWy-CQXRFU",
        "tE-1mZ5QXg1L",
        "KiOu2DBNYDTK",
        "0a7eDfvRYbWq",
        "o2o9eSWCZ124",
        "eyjLsWr4ZIyo",
        "bCFCIhUfZROx",
        "384qWsfNZnL_",
        "mZ2l76nOZvNf",
        "qNmhFOjKaMll"
      ],
      "toc_visible": true,
      "authorship_tag": "ABX9TyNO01p1o45NxD0vSh9rS11s",
      "include_colab_link": true
    },
    "kernelspec": {
      "name": "python3",
      "display_name": "Python 3"
    },
    "language_info": {
      "name": "python"
    }
  },
  "cells": [
    {
      "cell_type": "markdown",
      "metadata": {
        "id": "view-in-github",
        "colab_type": "text"
      },
      "source": [
        "<a href=\"https://colab.research.google.com/github/Nastarii/PCB-defect-detection/blob/28ago/TF_text_classifier.ipynb\" target=\"_parent\"><img src=\"https://colab.research.google.com/assets/colab-badge.svg\" alt=\"Open In Colab\"/></a>"
      ]
    },
    {
      "cell_type": "markdown",
      "metadata": {
        "id": "MgcrFB_aXEiT"
      },
      "source": [
        "# Config Libs"
      ]
    },
    {
      "cell_type": "code",
      "metadata": {
        "colab": {
          "base_uri": "https://localhost:8080/"
        },
        "id": "_ppa-C7OXL5j",
        "outputId": "720f6026-cb05-478a-dc83-ca08f5433d33"
      },
      "source": [
        "import tensorflow as tf\n",
        "from tensorflow import keras\n",
        "\n",
        "import numpy as np\n",
        "\n",
        "print(tf.__version__)"
      ],
      "execution_count": 1,
      "outputs": [
        {
          "output_type": "stream",
          "text": [
            "2.6.0\n"
          ],
          "name": "stdout"
        }
      ]
    },
    {
      "cell_type": "markdown",
      "metadata": {
        "id": "eShWy-CQXRFU"
      },
      "source": [
        "# Database IMDB"
      ]
    },
    {
      "cell_type": "code",
      "metadata": {
        "colab": {
          "base_uri": "https://localhost:8080/"
        },
        "id": "ogyDJqYHXYRz",
        "outputId": "0779ec03-e149-4ce2-c449-c0f7837a4778"
      },
      "source": [
        "imdb = keras.datasets.imdb\n",
        "\n",
        "(train_data, train_labels), (test_data, test_labels) = imdb.load_data(num_words=10000)"
      ],
      "execution_count": 2,
      "outputs": [
        {
          "output_type": "stream",
          "text": [
            "Downloading data from https://storage.googleapis.com/tensorflow/tf-keras-datasets/imdb.npz\n",
            "17465344/17464789 [==============================] - 0s 0us/step\n",
            "17473536/17464789 [==============================] - 0s 0us/step\n"
          ],
          "name": "stdout"
        }
      ]
    },
    {
      "cell_type": "markdown",
      "metadata": {
        "id": "tE-1mZ5QXg1L"
      },
      "source": [
        "# Consult Data"
      ]
    },
    {
      "cell_type": "code",
      "metadata": {
        "colab": {
          "base_uri": "https://localhost:8080/"
        },
        "id": "VP2jMkYbX4yf",
        "outputId": "aec808b5-7f3e-4b9e-800f-44d15f765d97"
      },
      "source": [
        "print(\"Training entries: {}, labels: {}\".format(len(train_data), len(train_labels)))\n",
        "print(train_data[0])\n",
        "len(train_data[0]), len(train_data[1])"
      ],
      "execution_count": 3,
      "outputs": [
        {
          "output_type": "stream",
          "text": [
            "Training entries: 25000, labels: 25000\n",
            "[1, 14, 22, 16, 43, 530, 973, 1622, 1385, 65, 458, 4468, 66, 3941, 4, 173, 36, 256, 5, 25, 100, 43, 838, 112, 50, 670, 2, 9, 35, 480, 284, 5, 150, 4, 172, 112, 167, 2, 336, 385, 39, 4, 172, 4536, 1111, 17, 546, 38, 13, 447, 4, 192, 50, 16, 6, 147, 2025, 19, 14, 22, 4, 1920, 4613, 469, 4, 22, 71, 87, 12, 16, 43, 530, 38, 76, 15, 13, 1247, 4, 22, 17, 515, 17, 12, 16, 626, 18, 2, 5, 62, 386, 12, 8, 316, 8, 106, 5, 4, 2223, 5244, 16, 480, 66, 3785, 33, 4, 130, 12, 16, 38, 619, 5, 25, 124, 51, 36, 135, 48, 25, 1415, 33, 6, 22, 12, 215, 28, 77, 52, 5, 14, 407, 16, 82, 2, 8, 4, 107, 117, 5952, 15, 256, 4, 2, 7, 3766, 5, 723, 36, 71, 43, 530, 476, 26, 400, 317, 46, 7, 4, 2, 1029, 13, 104, 88, 4, 381, 15, 297, 98, 32, 2071, 56, 26, 141, 6, 194, 7486, 18, 4, 226, 22, 21, 134, 476, 26, 480, 5, 144, 30, 5535, 18, 51, 36, 28, 224, 92, 25, 104, 4, 226, 65, 16, 38, 1334, 88, 12, 16, 283, 5, 16, 4472, 113, 103, 32, 15, 16, 5345, 19, 178, 32]\n"
          ],
          "name": "stdout"
        },
        {
          "output_type": "execute_result",
          "data": {
            "text/plain": [
              "(218, 189)"
            ]
          },
          "metadata": {},
          "execution_count": 3
        }
      ]
    },
    {
      "cell_type": "markdown",
      "metadata": {
        "id": "KiOu2DBNYDTK"
      },
      "source": [
        "# Convert Data"
      ]
    },
    {
      "cell_type": "code",
      "metadata": {
        "colab": {
          "base_uri": "https://localhost:8080/"
        },
        "id": "GD77bHaiYM3-",
        "outputId": "a79fb655-c049-4401-9192-f91b4ade974c"
      },
      "source": [
        "word_index = imdb.get_word_index()\n",
        "\n",
        "word_index = {k:(v+3) for k,v in word_index.items()}\n",
        "word_index[\"<PAD>\"] = 0\n",
        "word_index[\"<START>\"] = 1\n",
        "word_index[\"<UNK>\"] = 2  \n",
        "word_index[\"<UNUSED>\"] = 3\n",
        "\n",
        "reverse_word_index = dict([(value, key) for (key, value) in word_index.items()])\n",
        "\n",
        "def decode_review(text):\n",
        "    return ' '.join([reverse_word_index.get(i, '?') for i in text])"
      ],
      "execution_count": 4,
      "outputs": [
        {
          "output_type": "stream",
          "text": [
            "Downloading data from https://storage.googleapis.com/tensorflow/tf-keras-datasets/imdb_word_index.json\n",
            "1646592/1641221 [==============================] - 0s 0us/step\n",
            "1654784/1641221 [==============================] - 0s 0us/step\n"
          ],
          "name": "stdout"
        }
      ]
    },
    {
      "cell_type": "markdown",
      "metadata": {
        "id": "p7asX1ezYUdJ"
      },
      "source": [
        "Test"
      ]
    },
    {
      "cell_type": "code",
      "metadata": {
        "colab": {
          "base_uri": "https://localhost:8080/",
          "height": 154
        },
        "id": "3XuzB67yYVIJ",
        "outputId": "29e2f019-54fd-4f56-e039-52fd9bcf1d3d"
      },
      "source": [
        "decode_review(train_data[0])"
      ],
      "execution_count": 5,
      "outputs": [
        {
          "output_type": "execute_result",
          "data": {
            "application/vnd.google.colaboratory.intrinsic+json": {
              "type": "string"
            },
            "text/plain": [
              "\"<START> this film was just brilliant casting location scenery story direction everyone's really suited the part they played and you could just imagine being there robert <UNK> is an amazing actor and now the same being director <UNK> father came from the same scottish island as myself so i loved the fact there was a real connection with this film the witty remarks throughout the film were great it was just brilliant so much that i bought the film as soon as it was released for <UNK> and would recommend it to everyone to watch and the fly fishing was amazing really cried at the end it was so sad and you know what they say if you cry at a film it must have been good and this definitely was also <UNK> to the two little boy's that played the <UNK> of norman and paul they were just brilliant children are often left out of the <UNK> list i think because the stars that play them all grown up are such a big profile for the whole film but these children are amazing and should be praised for what they have done don't you think the whole story was so lovely because it was true and was someone's life after all that was shared with us all\""
            ]
          },
          "metadata": {},
          "execution_count": 5
        }
      ]
    },
    {
      "cell_type": "markdown",
      "metadata": {
        "id": "0a7eDfvRYbWq"
      },
      "source": [
        "#Gauge Data"
      ]
    },
    {
      "cell_type": "code",
      "metadata": {
        "id": "OMwkzuaYYn9V"
      },
      "source": [
        "train_data = keras.preprocessing.sequence.pad_sequences(train_data,\n",
        "                                                        value=word_index[\"<PAD>\"],\n",
        "                                                        padding='post',\n",
        "                                                        maxlen=256)\n",
        "\n",
        "test_data = keras.preprocessing.sequence.pad_sequences(test_data,\n",
        "                                                       value=word_index[\"<PAD>\"],\n",
        "                                                       padding='post',\n",
        "                                                       maxlen=256)"
      ],
      "execution_count": 6,
      "outputs": []
    },
    {
      "cell_type": "markdown",
      "metadata": {
        "id": "o2o9eSWCZ124"
      },
      "source": [
        "#Config Model"
      ]
    },
    {
      "cell_type": "markdown",
      "metadata": {
        "id": "eyjLsWr4ZIyo"
      },
      "source": [
        "##Building Model"
      ]
    },
    {
      "cell_type": "code",
      "metadata": {
        "colab": {
          "base_uri": "https://localhost:8080/"
        },
        "id": "3K3ViUX2ZMCY",
        "outputId": "c209ec88-267a-4e50-c569-0e2515764f10"
      },
      "source": [
        "vocab_size = 10000\n",
        "\n",
        "model = keras.Sequential()\n",
        "model.add(keras.layers.Embedding(vocab_size, 16))\n",
        "model.add(keras.layers.GlobalAveragePooling1D())\n",
        "model.add(keras.layers.Dense(16, activation='relu'))\n",
        "model.add(keras.layers.Dense(1, activation='sigmoid'))\n",
        "\n",
        "model.summary()"
      ],
      "execution_count": 7,
      "outputs": [
        {
          "output_type": "stream",
          "text": [
            "Model: \"sequential\"\n",
            "_________________________________________________________________\n",
            "Layer (type)                 Output Shape              Param #   \n",
            "=================================================================\n",
            "embedding (Embedding)        (None, None, 16)          160000    \n",
            "_________________________________________________________________\n",
            "global_average_pooling1d (Gl (None, 16)                0         \n",
            "_________________________________________________________________\n",
            "dense (Dense)                (None, 16)                272       \n",
            "_________________________________________________________________\n",
            "dense_1 (Dense)              (None, 1)                 17        \n",
            "=================================================================\n",
            "Total params: 160,289\n",
            "Trainable params: 160,289\n",
            "Non-trainable params: 0\n",
            "_________________________________________________________________\n"
          ],
          "name": "stdout"
        }
      ]
    },
    {
      "cell_type": "markdown",
      "metadata": {
        "id": "bCFCIhUfZROx"
      },
      "source": [
        "##Compile Model"
      ]
    },
    {
      "cell_type": "code",
      "metadata": {
        "id": "DqhvgW80ZUf_"
      },
      "source": [
        "model.compile(optimizer='adam',\n",
        "              loss='binary_crossentropy',\n",
        "              metrics=['accuracy'])"
      ],
      "execution_count": 8,
      "outputs": []
    },
    {
      "cell_type": "markdown",
      "metadata": {
        "id": "384qWsfNZnL_"
      },
      "source": [
        "## Create Validation Group"
      ]
    },
    {
      "cell_type": "code",
      "metadata": {
        "id": "2Krcq3GIZs_N"
      },
      "source": [
        "x_val = train_data[:10000]\n",
        "partial_x_train = train_data[10000:]\n",
        "\n",
        "y_val = train_labels[:10000]\n",
        "partial_y_train = train_labels[10000:]"
      ],
      "execution_count": 9,
      "outputs": []
    },
    {
      "cell_type": "markdown",
      "metadata": {
        "id": "mZ2l76nOZvNf"
      },
      "source": [
        "## Train Model"
      ]
    },
    {
      "cell_type": "code",
      "metadata": {
        "colab": {
          "base_uri": "https://localhost:8080/"
        },
        "id": "rpN1zobeZyr-",
        "outputId": "95c6a2a2-c934-48c3-c980-2afe62cb7b9a"
      },
      "source": [
        "history = model.fit(partial_x_train,\n",
        "                    partial_y_train,\n",
        "                    epochs=40,\n",
        "                    batch_size=512,\n",
        "                    validation_data=(x_val, y_val),\n",
        "                    verbose=1)"
      ],
      "execution_count": 10,
      "outputs": [
        {
          "output_type": "stream",
          "text": [
            "Epoch 1/40\n",
            "30/30 [==============================] - 2s 27ms/step - loss: 0.6925 - accuracy: 0.5375 - val_loss: 0.6911 - val_accuracy: 0.5948\n",
            "Epoch 2/40\n",
            "30/30 [==============================] - 1s 21ms/step - loss: 0.6873 - accuracy: 0.6780 - val_loss: 0.6833 - val_accuracy: 0.7302\n",
            "Epoch 3/40\n",
            "30/30 [==============================] - 1s 21ms/step - loss: 0.6758 - accuracy: 0.7536 - val_loss: 0.6687 - val_accuracy: 0.7157\n",
            "Epoch 4/40\n",
            "30/30 [==============================] - 1s 21ms/step - loss: 0.6554 - accuracy: 0.7622 - val_loss: 0.6451 - val_accuracy: 0.7339\n",
            "Epoch 5/40\n",
            "30/30 [==============================] - 1s 21ms/step - loss: 0.6245 - accuracy: 0.7875 - val_loss: 0.6122 - val_accuracy: 0.7820\n",
            "Epoch 6/40\n",
            "30/30 [==============================] - 1s 22ms/step - loss: 0.5848 - accuracy: 0.8080 - val_loss: 0.5730 - val_accuracy: 0.7963\n",
            "Epoch 7/40\n",
            "30/30 [==============================] - 1s 22ms/step - loss: 0.5396 - accuracy: 0.8261 - val_loss: 0.5309 - val_accuracy: 0.8146\n",
            "Epoch 8/40\n",
            "30/30 [==============================] - 1s 22ms/step - loss: 0.4932 - accuracy: 0.8429 - val_loss: 0.4899 - val_accuracy: 0.8278\n",
            "Epoch 9/40\n",
            "30/30 [==============================] - 1s 21ms/step - loss: 0.4493 - accuracy: 0.8565 - val_loss: 0.4528 - val_accuracy: 0.8417\n",
            "Epoch 10/40\n",
            "30/30 [==============================] - 1s 22ms/step - loss: 0.4099 - accuracy: 0.8698 - val_loss: 0.4208 - val_accuracy: 0.8492\n",
            "Epoch 11/40\n",
            "30/30 [==============================] - 1s 21ms/step - loss: 0.3754 - accuracy: 0.8789 - val_loss: 0.3934 - val_accuracy: 0.8556\n",
            "Epoch 12/40\n",
            "30/30 [==============================] - 1s 21ms/step - loss: 0.3456 - accuracy: 0.8854 - val_loss: 0.3714 - val_accuracy: 0.8604\n",
            "Epoch 13/40\n",
            "30/30 [==============================] - 1s 21ms/step - loss: 0.3206 - accuracy: 0.8929 - val_loss: 0.3540 - val_accuracy: 0.8665\n",
            "Epoch 14/40\n",
            "30/30 [==============================] - 1s 21ms/step - loss: 0.2994 - accuracy: 0.8981 - val_loss: 0.3401 - val_accuracy: 0.8707\n",
            "Epoch 15/40\n",
            "30/30 [==============================] - 1s 21ms/step - loss: 0.2809 - accuracy: 0.9038 - val_loss: 0.3287 - val_accuracy: 0.8741\n",
            "Epoch 16/40\n",
            "30/30 [==============================] - 1s 21ms/step - loss: 0.2650 - accuracy: 0.9103 - val_loss: 0.3195 - val_accuracy: 0.8754\n",
            "Epoch 17/40\n",
            "30/30 [==============================] - 1s 21ms/step - loss: 0.2508 - accuracy: 0.9133 - val_loss: 0.3120 - val_accuracy: 0.8772\n",
            "Epoch 18/40\n",
            "30/30 [==============================] - 1s 21ms/step - loss: 0.2379 - accuracy: 0.9185 - val_loss: 0.3061 - val_accuracy: 0.8790\n",
            "Epoch 19/40\n",
            "30/30 [==============================] - 1s 20ms/step - loss: 0.2264 - accuracy: 0.9205 - val_loss: 0.3009 - val_accuracy: 0.8804\n",
            "Epoch 20/40\n",
            "30/30 [==============================] - 1s 21ms/step - loss: 0.2161 - accuracy: 0.9249 - val_loss: 0.2963 - val_accuracy: 0.8818\n",
            "Epoch 21/40\n",
            "30/30 [==============================] - 1s 22ms/step - loss: 0.2061 - accuracy: 0.9293 - val_loss: 0.2933 - val_accuracy: 0.8826\n",
            "Epoch 22/40\n",
            "30/30 [==============================] - 1s 21ms/step - loss: 0.1968 - accuracy: 0.9338 - val_loss: 0.2904 - val_accuracy: 0.8833\n",
            "Epoch 23/40\n",
            "30/30 [==============================] - 1s 21ms/step - loss: 0.1881 - accuracy: 0.9369 - val_loss: 0.2884 - val_accuracy: 0.8843\n",
            "Epoch 24/40\n",
            "30/30 [==============================] - 1s 20ms/step - loss: 0.1810 - accuracy: 0.9399 - val_loss: 0.2874 - val_accuracy: 0.8846\n",
            "Epoch 25/40\n",
            "30/30 [==============================] - 1s 21ms/step - loss: 0.1728 - accuracy: 0.9437 - val_loss: 0.2860 - val_accuracy: 0.8845\n",
            "Epoch 26/40\n",
            "30/30 [==============================] - 1s 22ms/step - loss: 0.1661 - accuracy: 0.9477 - val_loss: 0.2856 - val_accuracy: 0.8856\n",
            "Epoch 27/40\n",
            "30/30 [==============================] - 1s 21ms/step - loss: 0.1590 - accuracy: 0.9509 - val_loss: 0.2862 - val_accuracy: 0.8833\n",
            "Epoch 28/40\n",
            "30/30 [==============================] - 1s 21ms/step - loss: 0.1528 - accuracy: 0.9523 - val_loss: 0.2853 - val_accuracy: 0.8855\n",
            "Epoch 29/40\n",
            "30/30 [==============================] - 1s 21ms/step - loss: 0.1469 - accuracy: 0.9559 - val_loss: 0.2857 - val_accuracy: 0.8861\n",
            "Epoch 30/40\n",
            "30/30 [==============================] - 1s 22ms/step - loss: 0.1412 - accuracy: 0.9572 - val_loss: 0.2865 - val_accuracy: 0.8859\n",
            "Epoch 31/40\n",
            "30/30 [==============================] - 1s 21ms/step - loss: 0.1356 - accuracy: 0.9595 - val_loss: 0.2882 - val_accuracy: 0.8860\n",
            "Epoch 32/40\n",
            "30/30 [==============================] - 1s 20ms/step - loss: 0.1308 - accuracy: 0.9617 - val_loss: 0.2891 - val_accuracy: 0.8858\n",
            "Epoch 33/40\n",
            "30/30 [==============================] - 1s 21ms/step - loss: 0.1257 - accuracy: 0.9631 - val_loss: 0.2913 - val_accuracy: 0.8850\n",
            "Epoch 34/40\n",
            "30/30 [==============================] - 1s 21ms/step - loss: 0.1209 - accuracy: 0.9655 - val_loss: 0.2924 - val_accuracy: 0.8853\n",
            "Epoch 35/40\n",
            "30/30 [==============================] - 1s 21ms/step - loss: 0.1163 - accuracy: 0.9677 - val_loss: 0.2944 - val_accuracy: 0.8852\n",
            "Epoch 36/40\n",
            "30/30 [==============================] - 1s 21ms/step - loss: 0.1119 - accuracy: 0.9692 - val_loss: 0.2972 - val_accuracy: 0.8848\n",
            "Epoch 37/40\n",
            "30/30 [==============================] - 1s 20ms/step - loss: 0.1078 - accuracy: 0.9702 - val_loss: 0.2993 - val_accuracy: 0.8852\n",
            "Epoch 38/40\n",
            "30/30 [==============================] - 1s 22ms/step - loss: 0.1040 - accuracy: 0.9719 - val_loss: 0.3017 - val_accuracy: 0.8837\n",
            "Epoch 39/40\n",
            "30/30 [==============================] - 1s 22ms/step - loss: 0.1000 - accuracy: 0.9735 - val_loss: 0.3047 - val_accuracy: 0.8833\n",
            "Epoch 40/40\n",
            "30/30 [==============================] - 1s 21ms/step - loss: 0.0965 - accuracy: 0.9748 - val_loss: 0.3081 - val_accuracy: 0.8828\n"
          ],
          "name": "stdout"
        }
      ]
    },
    {
      "cell_type": "markdown",
      "metadata": {
        "id": "qNmhFOjKaMll"
      },
      "source": [
        "## Evaluate Model"
      ]
    },
    {
      "cell_type": "code",
      "metadata": {
        "colab": {
          "base_uri": "https://localhost:8080/"
        },
        "id": "WBf8d-SFaPki",
        "outputId": "6a421aba-3a34-4c7c-81bb-e07c8fa81196"
      },
      "source": [
        "results = model.evaluate(test_data,  test_labels, verbose=2)\n"
      ],
      "execution_count": 12,
      "outputs": [
        {
          "output_type": "stream",
          "text": [
            "782/782 - 1s - loss: 0.3291 - accuracy: 0.8714\n"
          ],
          "name": "stdout"
        }
      ]
    },
    {
      "cell_type": "markdown",
      "metadata": {
        "id": "DVx7haZHaYUe"
      },
      "source": [
        "# Create Graphics"
      ]
    },
    {
      "cell_type": "code",
      "metadata": {
        "colab": {
          "base_uri": "https://localhost:8080/",
          "height": 295
        },
        "id": "RvNpULEzamdL",
        "outputId": "31805538-afd6-48b2-be87-a45374f723c3"
      },
      "source": [
        "import matplotlib.pyplot as plt\n",
        "\n",
        "history_dict = history.history\n",
        "history_dict.keys()\n",
        "\n",
        "acc = history_dict['accuracy']\n",
        "val_acc = history_dict['val_accuracy']\n",
        "loss = history_dict['loss']\n",
        "val_loss = history_dict['val_loss']\n",
        "\n",
        "epochs = range(1, len(acc) + 1)\n",
        "\n",
        "# \"bo\" is for \"blue dot\"\n",
        "plt.plot(epochs, loss, 'bo', label='Training loss')\n",
        "# b is for \"solid blue line\"\n",
        "plt.plot(epochs, val_loss, 'b', label='Validation loss')\n",
        "plt.title('Training and validation loss')\n",
        "plt.xlabel('Epochs')\n",
        "plt.ylabel('Loss')\n",
        "plt.legend()\n",
        "\n",
        "plt.show()"
      ],
      "execution_count": 14,
      "outputs": [
        {
          "output_type": "display_data",
          "data": {
            "image/png": "[encoded data removed]",
            "text/plain": [
              "<Figure size 432x288 with 1 Axes>"
            ]
          },
          "metadata": {
            "needs_background": "light"
          }
        }
      ]
    },
    {
      "cell_type": "code",
      "metadata": {
        "colab": {
          "base_uri": "https://localhost:8080/",
          "height": 295
        },
        "id": "EkZkXOEfaw-D",
        "outputId": "eac79ea0-e647-4e70-ff2e-19ab8fb00da9"
      },
      "source": [
        "plt.clf()\n",
        "\n",
        "plt.plot(epochs, acc, 'bo', label='Training acc')\n",
        "plt.plot(epochs, val_acc, 'b', label='Validation acc')\n",
        "plt.title('Training and validation accuracy')\n",
        "plt.xlabel('Epochs')\n",
        "plt.ylabel('Accuracy')\n",
        "plt.legend()\n",
        "\n",
        "plt.show()"
      ],
      "execution_count": 15,
      "outputs": [
        {
          "output_type": "display_data",
          "data": {
            "image/png": "[encoded data removed]",
            "text/plain": [
              "<Figure size 432x288 with 1 Axes>"
            ]
          },
          "metadata": {
            "needs_background": "light"
          }
        }
      ]
    }
  ]
}