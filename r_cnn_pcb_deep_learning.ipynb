{
  "nbformat": 4,
  "nbformat_minor": 0,
  "metadata": {
    "colab": {
      "name": "r_cnn_pcb_deep_learning.ipynb",
      "provenance": [],
      "collapsed_sections": [
        "0YOX-fLV3xNW",
        "nlNzlPRG323N"
      ],
      "authorship_tag": "ABX9TyNzadc+tj88+Ku4qNAgPdoT",
      "include_colab_link": true
    },
    "kernelspec": {
      "name": "python3",
      "display_name": "Python 3"
    },
    "language_info": {
      "name": "python"
    }
  },
  "cells": [
    {
      "cell_type": "markdown",
      "metadata": {
        "id": "view-in-github",
        "colab_type": "text"
      },
      "source": [
        "<a href=\"https://colab.research.google.com/github/Nastarii/PCB-defect-detection/blob/main/r_cnn_pcb_deep_learning.ipynb\" target=\"_parent\"><img src=\"https://colab.research.google.com/assets/colab-badge.svg\" alt=\"Open In Colab\"/></a>"
      ]
    },
    {
      "cell_type": "markdown",
      "source": [
        "# Libraries"
      ],
      "metadata": {
        "id": "0YOX-fLV3xNW"
      }
    },
    {
      "cell_type": "code",
      "execution_count": null,
      "metadata": {
        "id": "PCCR3P0X3t6K"
      },
      "outputs": [],
      "source": [
        "from torch.utils.data import Subset, Dataset, DataLoader\n",
        "from sklearn.model_selection import train_test_split\n",
        "from torchvision import transforms, utils\n",
        "from joblib import dump, load\n",
        "from sklearn.svm import SVC\n",
        "from PIL import Image\n",
        "import matplotlib.patches as patches\n",
        "import matplotlib.pyplot as plt\n",
        "import torch.nn.functional as F\n",
        "import torch.optim as optim\n",
        "import torch.nn as nn\n",
        "import pandas as pd\n",
        "import numpy as np\n",
        "import cv2 as cv\n",
        "import zipfile\n",
        "import torch"
      ]
    },
    {
      "cell_type": "markdown",
      "source": [
        "# Get Data"
      ],
      "metadata": {
        "id": "nlNzlPRG323N"
      }
    },
    {
      "cell_type": "markdown",
      "source": [
        "## Download from Github"
      ],
      "metadata": {
        "id": "u-pzgudg4GSd"
      }
    },
    {
      "cell_type": "code",
      "source": [
        "!wget --no-check-certificate \\\n",
        "    \"https://github.com/tangsanli5201/DeepPCB/archive/refs/heads/master.zip\" \\\n",
        "    -O \"/content/DeepPCB.zip\""
      ],
      "metadata": {
        "id": "94dYSUeO35ZR",
        "colab": {
          "base_uri": "https://localhost:8080/"
        },
        "outputId": "1714da8e-ffe3-4953-c69e-e1eff321db04"
      },
      "execution_count": null,
      "outputs": [
        {
          "output_type": "stream",
          "name": "stdout",
          "text": [
            "--2022-03-03 00:41:27--  https://github.com/tangsanli5201/DeepPCB/archive/refs/heads/master.zip\n",
            "Resolving github.com (github.com)... 192.30.255.113\n",
            "Connecting to github.com (github.com)|192.30.255.113|:443... connected.\n",
            "HTTP request sent, awaiting response... 302 Found\n",
            "Location: https://codeload.github.com/tangsanli5201/DeepPCB/zip/refs/heads/master [following]\n",
            "--2022-03-03 00:41:27--  https://codeload.github.com/tangsanli5201/DeepPCB/zip/refs/heads/master\n",
            "Resolving codeload.github.com (codeload.github.com)... 192.30.255.121\n",
            "Connecting to codeload.github.com (codeload.github.com)|192.30.255.121|:443... connected.\n",
            "HTTP request sent, awaiting response... 200 OK\n",
            "Length: unspecified [application/zip]\n",
            "Saving to: ‘/content/DeepPCB.zip’\n",
            "\n",
            "/content/DeepPCB.zi     [         <=>        ]  86.79M  17.4MB/s    in 5.0s    \n",
            "\n",
            "2022-03-03 00:41:32 (17.4 MB/s) - ‘/content/DeepPCB.zip’ saved [91004517]\n",
            "\n"
          ]
        }
      ]
    },
    {
      "cell_type": "markdown",
      "source": [
        "## Extract from zip"
      ],
      "metadata": {
        "id": "b_SesM_E4Dve"
      }
    },
    {
      "cell_type": "code",
      "source": [
        "zip_format = zipfile.ZipFile('/content/DeepPCB.zip','r')\n",
        "zip_format.extractall('/tmp')\n",
        "zip_format.close()"
      ],
      "metadata": {
        "id": "6g-HQCW137Y2"
      },
      "execution_count": null,
      "outputs": []
    },
    {
      "cell_type": "markdown",
      "source": [
        "## Read data with pandas"
      ],
      "metadata": {
        "id": "Q2oGBy0e4KDV"
      }
    },
    {
      "cell_type": "code",
      "source": [
        "dir = '/tmp/DeepPCB-master/PCBData/'\n",
        "\n",
        "train_paths = dir + pd.read_csv(dir + 'trainval.txt', sep= \" \",header= None)\n",
        "test_paths = dir + pd.read_csv(dir + 'test.txt', sep= \" \", header= None)"
      ],
      "metadata": {
        "id": "G00HI5wk3-R-"
      },
      "execution_count": null,
      "outputs": []
    },
    {
      "cell_type": "code",
      "source": [
        "def intersection_of_union(bbA, bbB):\n",
        "        x1, x2 = max(bbA[0], bbB[0]), min(bbA[2], bbB[2])\n",
        "        y1, y2 = max(bbA[1], bbB[1]), min(bbA[3], bbB[3])\n",
        "\n",
        "        if x2 < x1 or y2 < y1:\n",
        "            return 0.0\n",
        "\n",
        "        inter_area = (x2 - x1) * (y2 - y1)\n",
        "\n",
        "        bbA_area = (bbA[2] - bbA[0]) * (bbA[3] - bbA[1])\n",
        "        bbB_area = (bbB[2] - bbB[0]) * (bbB[3] - bbB[1])\n",
        "\n",
        "        iou = inter_area / float(bbA_area + bbB_area - inter_area)\n",
        "\n",
        "        return iou"
      ],
      "metadata": {
        "id": "iIKxF6YYNYsV"
      },
      "execution_count": null,
      "outputs": []
    },
    {
      "cell_type": "code",
      "source": [
        "img_file = train_paths.iloc[0][0]\n",
        "ann_file = train_paths.iloc[0][1]\n",
        "\n",
        "img = cv.imread(img_file.replace('.','_test.'))\n",
        "ann = pd.read_csv(ann_file, sep= ' ',header=None)"
      ],
      "metadata": {
        "id": "bxZbAPfyNaeR"
      },
      "execution_count": null,
      "outputs": []
    },
    {
      "cell_type": "code",
      "source": [
        "a = ann.iloc[0][:4]\n",
        "bbox = []\n",
        "for i in a:\n",
        "    bbox.append(i)\n",
        "prev = [390,407,425,440]"
      ],
      "metadata": {
        "id": "O9opY25nO07g"
      },
      "execution_count": null,
      "outputs": []
    },
    {
      "cell_type": "code",
      "source": [
        "iou = round(intersection_of_union(prev,bbox),2)\n",
        "iou"
      ],
      "metadata": {
        "colab": {
          "base_uri": "https://localhost:8080/"
        },
        "id": "_WE76MjkQrWv",
        "outputId": "d0aeaf5c-d552-4355-bc73-c3f8969d632d"
      },
      "execution_count": null,
      "outputs": [
        {
          "output_type": "execute_result",
          "data": {
            "text/plain": [
              "0.15"
            ]
          },
          "metadata": {},
          "execution_count": 58
        }
      ]
    },
    {
      "cell_type": "code",
      "source": [
        "font = cv.FONT_HERSHEY_SIMPLEX"
      ],
      "metadata": {
        "id": "6ZD0IydSRpoK"
      },
      "execution_count": null,
      "outputs": []
    },
    {
      "cell_type": "code",
      "source": [
        "cv.rectangle(img,(prev[0],prev[1]),(prev[2],prev[3]),(0,0,255),2)\n",
        "cv.rectangle(img,(bbox[0],bbox[1]),(bbox[2],bbox[3]),(255,0,0),2)\n",
        "cv.putText(img,'IOU:' + str(iou),(bbox[0],bbox[1]),font, 0.75,(255,0,0),2,cv.LINE_AA)\n",
        "plt.figure(figsize=(12,8))\n",
        "plt.imshow(img)"
      ],
      "metadata": {
        "colab": {
          "base_uri": "https://localhost:8080/",
          "height": 503
        },
        "id": "52oJOrfDPJUa",
        "outputId": "04e16471-d1bc-4864-bcfd-b124143ce536"
      },
      "execution_count": null,
      "outputs": [
        {
          "output_type": "execute_result",
          "data": {
            "text/plain": [
              "<matplotlib.image.AxesImage at 0x7f8841b66a90>"
            ]
          },
          "metadata": {},
          "execution_count": 70
        },
        {
          "output_type": "display_data",
          "data": {
            "image/png": "[encoded data removed]",
            "text/plain": [
              "<Figure size 864x576 with 1 Axes>"
            ]
          },
          "metadata": {
            "needs_background": "light"
          }
        }
      ]
    },
    {
      "cell_type": "markdown",
      "source": [
        "# Preprocessing Data"
      ],
      "metadata": {
        "id": "jRFTsUcF4V-1"
      }
    },
    {
      "cell_type": "code",
      "source": [
        "class pcb_dataset(Dataset):\n",
        "\n",
        "    # Construtor do banco de dados - Executa ao chamar a classe\n",
        "    def __init__(self, root, svm_model= None, svm_val_size=.2, output_size=32):\n",
        "        self.root = root\n",
        "        self.svm_model = svm_model\n",
        "        self.svm_val_size = svm_val_size\n",
        "        self.w, self.h = (output_size, output_size)\n",
        "    \n",
        "    # Preenche listas com 2 ou mais valores\n",
        "    def fill(self, data, *args):\n",
        "        for idx, arg in enumerate(args):\n",
        "            data[idx].append(arg)\n",
        "\n",
        "    # Prepara a imagem para o modelo de rede neural\n",
        "    def nn_preprocessing(self, image):\n",
        "        image = Image.fromarray(image).convert('RGB')\n",
        "        return np.array(image.resize((self.w,self.h), Image.ANTIALIAS)).astype('float32')/255\n",
        "\n",
        "    # Prepara a imagem para um modelo de support vector machine\n",
        "    def svm_preprocessing(self, image):\n",
        "        image = Image.fromarray(image).convert('L')\n",
        "        image = image.resize((self.w,self.h), Image.ANTIALIAS)\n",
        "        return np.array(image).flatten().astype('float32')/255\n",
        "\n",
        "    # Função principal do pre processamento do banco de dados\n",
        "    def main(self, extract_feature= None, train_svm= None, predict_svm=None):\n",
        "        svm_input, nn_input = [], [[] for _ in range(2)]\n",
        "        for idx, img_path, txt_path in self.root[[0,1]].itertuples():\n",
        "            def_img = cv.imread(img_path.replace('.','_test.'))\n",
        "            nor_img = cv.imread(img_path.replace('.','_temp.'))\n",
        "            anns    = np.array(pd.read_csv(txt_path, sep=\" \", header=None))\n",
        "            \n",
        "            if extract_feature:\n",
        "                backg_gft = self.sift(nor_img, idx)\n",
        "                foreg_gft = self.sift(def_img, idx, anns)\n",
        "                svm_input.append(np.hstack((backg_gft,foreg_gft)))\n",
        "            \n",
        "            else:\n",
        "                nn_gft = self.sift(nor_img, idx, num=2)\n",
        "                for i in range(len(nn_gft[0])):\n",
        "                    image = self.nn_preprocessing(nn_gft[0,i])\n",
        "                    self.fill(nn_input, image, nn_gft[1,i])\n",
        "\n",
        "                for ann in anns:\n",
        "                    image = self.nn_preprocessing(def_img[ann[1]:ann[3], ann[0]:ann[2]])\n",
        "                    self.fill(nn_input, image, ann[4])\n",
        "        \n",
        "        if predict_svm:\n",
        "            svm_input = np.hstack(svm_input)    \n",
        "            return self.SVM(svm_input, predict=predict_svm)\n",
        "\n",
        "        if train_svm:\n",
        "            svm_input = np.hstack(svm_input)\n",
        "            self.svm_model = self.SVM(svm_input) # Classify fore and background\n",
        "            return self.svm_model\n",
        "\n",
        "        return nn_input\n",
        "\n",
        "    def sift(self, image, index, ann= None, num= 400):\n",
        "        features = [[] for _ in range(4)]\n",
        "        sift = cv.SIFT_create(num)\n",
        "        kps, des = sift.detectAndCompute(image,None)\n",
        "        boxes = []\n",
        "\n",
        "        for kp in kps:\n",
        "            x,y = kp.pt\n",
        "            size = kp.size\n",
        "            sift_box = self.generate_box(x, y, 640)\n",
        "            feature = image[sift_box[1]: sift_box[3], sift_box[0]:sift_box[2]]\n",
        "\n",
        "            if ann is not None:\n",
        "                    boxes = ann[:,:4]\n",
        "                    for box in boxes:\n",
        "                        if self.intersection_of_union(box, sift_box) > 0.5:     \n",
        "                            self.fill(features,feature,1,index,sift_box)\n",
        "            else:\n",
        "                if len(features[1]) < 6:   \n",
        "                    self.fill(features,feature,0,index,sift_box)\n",
        "        return np.array(features, dtype=object)\n",
        "    \n",
        "    def generate_box(self,x,y,img_size, size= 32):\n",
        "        w, h = (size, size)\n",
        "        \n",
        "        xi, yi = x - w/2, y - h/2\n",
        "        xo, yo = xi + w, yi + w\n",
        "        if xi < 0:\n",
        "            xi, xo = 0, w\n",
        "        if yi < 0:\n",
        "            yi,yo = 0, h\n",
        "        if xo > img_size:\n",
        "            xo, xi = img_size, img_size - w\n",
        "        if yo > img_size:\n",
        "            yo, yi = img_size, img_size - h\n",
        "\n",
        "        return [xi, yi, xo, yo]\n",
        "\n",
        "    # Método para extração dos pontos de interesse\n",
        "    def good_features_to_track(self, image, index, ann= None,num= 50):\n",
        "        features = [[] for _ in range(4)]\n",
        "        gray = cv.cvtColor(image, cv.COLOR_BGR2GRAY)\n",
        "        gft = cv.goodFeaturesToTrack(gray,num,0.01,15)\n",
        "        if gft is not None:\n",
        "            gft = np.int0(gft)\n",
        "\n",
        "            for f in gft:\n",
        "                x, y = f.ravel()\n",
        "                \n",
        "                gftbox = self.generate_box(x, y, 640)\n",
        "                feature = gray[gftbox[1]:gftbox[3], gftbox[0]:gftbox[2]]\n",
        "                \n",
        "                if ann is not None:\n",
        "                    boxes = ann[:,:4]\n",
        "                    for box in boxes:\n",
        "                        if self.intersection_of_union(box, gftbox) > 0.35:     \n",
        "                            self.fill(features,feature,1,index,gftbox)\n",
        "                else:\n",
        "                    if len(features[1]) < 6:   \n",
        "                        self.fill(features,feature,0,index,gftbox)\n",
        "                        \n",
        "                    \n",
        "        return np.array(features, dtype=object)\n",
        "\n",
        "    # Avalia se o ponto de interesse extraído está próximo do objeto desejado\n",
        "    def intersection_of_union(self, bbA, bbB):\n",
        "        x1, x2 = max(bbA[0], bbB[0]), min(bbA[2], bbB[2])\n",
        "        y1, y2 = max(bbA[1], bbB[1]), min(bbA[3], bbB[3])\n",
        "\n",
        "        if x2 < x1 or y2 < y1:\n",
        "            return 0.0\n",
        "\n",
        "        inter_area = (x2 - x1) * (y2 - y1)\n",
        "\n",
        "        bbA_area = (bbA[2] - bbA[0]) * (bbA[3] - bbA[1])\n",
        "        bbB_area = (bbB[2] - bbB[0]) * (bbB[3] - bbB[1])\n",
        "\n",
        "        iou = inter_area / float(bbA_area + bbB_area - inter_area)\n",
        "\n",
        "        return iou\n",
        "    \n",
        "    # Função que faz o treinamento e test do support vector machine\n",
        "    def SVM(self, data,predict= None):\n",
        "        images, label, image_idx, gftbox = data\n",
        "        train, test = [[] for _ in range(2)], [[] for _ in range(3)]\n",
        "    \n",
        "        for i, image in enumerate(images,0):\n",
        "            svm_input = self.svm_preprocessing(image)\n",
        "            \n",
        "            if predict:\n",
        "                \n",
        "                prediction = self.svm_model.predict([svm_input])\n",
        "                \n",
        "                if prediction[0] == 1:\n",
        "                    nn_input = self.nn_preprocessing(image)\n",
        "                    self.fill(test, nn_input, image_idx[i], gftbox[i])\n",
        "            else:\n",
        "                self.fill(train,svm_input,int(label[i]))\n",
        "\n",
        "        if predict:\n",
        "            return test\n",
        "\n",
        "        else:\n",
        "            xtrain, xtest, ytrain, ytest = train_test_split(train[0], train[1], test_size= self.svm_val_size)\n",
        "\n",
        "            model = SVC(kernel='poly',degree= 5, gamma= 'auto',coef0 = 0.9, random_state=21)\n",
        "            model.fit(xtrain, ytrain)\n",
        "\n",
        "            prediction = model.predict(xtest)\n",
        "            accuracy   = model.score(xtest,ytest)\n",
        "            print( f\"SVM object detection acurracy is {accuracy}\")\n",
        "\n",
        "            return model\n",
        "        \n",
        "\n",
        "    "
      ],
      "metadata": {
        "id": "8Z7Ed2-l4h3E"
      },
      "execution_count": null,
      "outputs": []
    },
    {
      "cell_type": "code",
      "source": [
        "# Classe que processa os dados de treino\n",
        "class train_data(pcb_dataset):\n",
        "    def __init__(self,train_root, transform=None):\n",
        "        super().__init__(train_root)\n",
        "        self.transform = transform\n",
        "        self.image, self.label = super().main()\n",
        "    \n",
        "    def __len__(self):\n",
        "        return len(self.image)\n",
        "    \n",
        "    def __getitem__(self, idx):\n",
        "        if torch.is_tensor(idx):\n",
        "            idx = idx.tolist()\n",
        "\n",
        "        sample = (self.image[idx], self.label[idx])\n",
        "        if self.transform:\n",
        "            sample = self.transform(sample)\n",
        "\n",
        "        return sample\n",
        "    \n",
        "    def trainSVM(self):\n",
        "        return super().main(True,True)\n",
        "\n",
        "# Classe que processa os dados de teste\n",
        "class test_data(pcb_dataset):\n",
        "\n",
        "    def __init__(self,test_root, svm_model, transform=None):\n",
        "        super().__init__(test_root, svm_model)\n",
        "        self.transform = transform\n",
        "        self.image, self.image_idx, self.box = super().main(True, None, True)\n",
        "    \n",
        "    def __len__(self):\n",
        "        return len(self.image)\n",
        "    \n",
        "    def __getitem__(self, idx):\n",
        "        if torch.is_tensor(idx):\n",
        "            idx = idx.tolist()\n",
        "\n",
        "        sample = (self.image[idx], self.image_idx[idx], self.box[idx])\n",
        "        \n",
        "        if self.transform:\n",
        "            sample = self.transform(sample)\n",
        "\n",
        "        return sample"
      ],
      "metadata": {
        "id": "qDChzsA1kDws"
      },
      "execution_count": null,
      "outputs": []
    },
    {
      "cell_type": "code",
      "source": [
        "# Converte para tensor (obrigatório para a rede neural)\n",
        "class ToTensor(object):\n",
        "\n",
        "    def __call__(self, sample):\n",
        "        if len(sample) == 2:\n",
        "            image, label = sample\n",
        "            return torch.from_numpy(image.transpose(2, 0, 1)).float(), torch.from_numpy(np.array(label))\n",
        "        else:\n",
        "            image, image_idx, box = sample\n",
        "            return torch.from_numpy(image.transpose(2, 0, 1)).float(), torch.from_numpy(np.array(image_idx)), torch.from_numpy(np.array(box))"
      ],
      "metadata": {
        "id": "-9LWwNRr2qiR"
      },
      "execution_count": null,
      "outputs": []
    },
    {
      "cell_type": "markdown",
      "source": [
        "# Neural Network Model"
      ],
      "metadata": {
        "id": "aUPKb97xc9DC"
      }
    },
    {
      "cell_type": "code",
      "source": [
        "# Arquitetura de rede neural utilizada\n",
        "class LeNet(nn.Module):\n",
        "    def __init__(self):\n",
        "        super().__init__()\n",
        "        self.conv1 = nn.Conv2d(3, 6, 5)\n",
        "        self.pool = nn.MaxPool2d(2, 2)\n",
        "        self.conv2 = nn.Conv2d(6, 16, 5)\n",
        "        self.fc1 = nn.Linear(16 * 5 * 5, 120)\n",
        "        self.fc2 = nn.Linear(120, 84)\n",
        "        self.fc3 = nn.Linear(84, 7)\n",
        "\n",
        "    def forward(self, x):\n",
        "        x = self.pool(F.relu(self.conv1(x)))\n",
        "        x = self.pool(F.relu(self.conv2(x)))\n",
        "        x = torch.flatten(x, 1) # flatten all dimensions except batch\n",
        "        x = F.relu(self.fc1(x))\n",
        "        x = F.relu(self.fc2(x))\n",
        "        x = self.fc3(x)\n",
        "        return x"
      ],
      "metadata": {
        "id": "MfEONP2_G2EZ"
      },
      "execution_count": null,
      "outputs": []
    },
    {
      "cell_type": "markdown",
      "source": [
        "# Train"
      ],
      "metadata": {
        "id": "6686x6otcvgT"
      }
    },
    {
      "cell_type": "code",
      "source": [
        "ds = train_data(train_paths, transform=transforms.Compose([ToTensor()])) #cria os dados de treino"
      ],
      "metadata": {
        "id": "A7HMK1y8Pxb0"
      },
      "execution_count": null,
      "outputs": []
    },
    {
      "cell_type": "code",
      "source": [
        "svm_model = ds.trainSVM() # Treina o modelo svm"
      ],
      "metadata": {
        "colab": {
          "base_uri": "https://localhost:8080/"
        },
        "id": "blK_HjkDSKq5",
        "outputId": "4192e5c8-3e54-4dce-dd67-2c17fa9c8aac"
      },
      "execution_count": null,
      "outputs": [
        {
          "output_type": "stream",
          "name": "stdout",
          "text": [
            "SVM object detection acurracy is 0.8505025125628141\n"
          ]
        }
      ]
    },
    {
      "cell_type": "code",
      "source": [
        "# Separa uma parte para a validação da rede neural\n",
        "def train_val_dataset(dataset, val_split=0.25):\n",
        "    train_idx, val_idx = train_test_split(list(range(len(dataset))), test_size=val_split)\n",
        "    return Subset(dataset, train_idx), Subset(dataset, val_idx)"
      ],
      "metadata": {
        "id": "wBUnDM2nA2n1"
      },
      "execution_count": null,
      "outputs": []
    },
    {
      "cell_type": "code",
      "source": [
        "train_ds, val_ds = train_val_dataset(ds, val_split=0.2)"
      ],
      "metadata": {
        "id": "c2ZU3f6k3_IG"
      },
      "execution_count": null,
      "outputs": []
    },
    {
      "cell_type": "code",
      "source": [
        "train_dl , val_dl = DataLoader(train_ds, batch_size=32, \n",
        "                               shuffle=True, num_workers=2), \\\n",
        "                    DataLoader(val_ds, batch_size=32,\n",
        "                               shuffle=True, num_workers=2)"
      ],
      "metadata": {
        "id": "smrW179RCKgM"
      },
      "execution_count": null,
      "outputs": []
    },
    {
      "cell_type": "code",
      "source": [
        "def train_val_nn(num_epoch):\n",
        "    device = torch.device('cuda' if torch.cuda.is_available() else 'cpu')\n",
        "\n",
        "    model = LeNet() \n",
        "    model = model.to(device=device) \n",
        "\n",
        "    criterion = nn.CrossEntropyLoss()\n",
        "    optimizer = optim.Adam(model.parameters(), lr= 1e-4) \n",
        "\n",
        "    for epoch in range(num_epoch): \n",
        "        loss_ep = 0\n",
        "        \n",
        "        for batch_idx, (input, targets) in enumerate(train_dl):\n",
        "\n",
        "            input = input.to(device=device)\n",
        "            targets = targets.to(device=device)\n",
        "\n",
        "            optimizer.zero_grad()\n",
        "            scores = model(input)\n",
        "            loss = criterion(scores,targets)\n",
        "            loss.backward()\n",
        "            optimizer.step()\n",
        "            loss_ep += loss.item()\n",
        "        print(f\"Loss in epoch {epoch + 1} :::: {loss_ep/len(train_dl)}\")\n",
        "\n",
        "        with torch.no_grad():\n",
        "            num_correct = 0\n",
        "            num_samples = 0\n",
        "            for batch_idx, (input,targets) in enumerate(val_dl):\n",
        "\n",
        "                input = input.to(device=device)\n",
        "                targets = targets.to(device=device)\n",
        "\n",
        "                scores = model(input)\n",
        "                _, predictions = scores.max(1)\n",
        "                num_correct += (predictions == targets).sum()\n",
        "                num_samples += predictions.size(0)\n",
        "            print(\n",
        "                f\"Got {num_correct} / {num_samples} with accuracy {float(num_correct) / float(num_samples) * 100:.2f}\"\n",
        "            )\n",
        "    return model"
      ],
      "metadata": {
        "id": "m8Uhxq-FCgXS"
      },
      "execution_count": null,
      "outputs": []
    },
    {
      "cell_type": "code",
      "source": [
        "model = train_val_nn(30)"
      ],
      "metadata": {
        "colab": {
          "base_uri": "https://localhost:8080/"
        },
        "id": "jRo1v-C_C0Ki",
        "outputId": "c4f0ffba-554f-4643-c7d9-c381a1092744"
      },
      "execution_count": null,
      "outputs": [
        {
          "output_type": "stream",
          "name": "stdout",
          "text": [
            "Loss in epoch 1 :::: 1.571791328019924\n",
            "Got 1162 / 1774 with accuracy 65.50\n",
            "Loss in epoch 2 :::: 0.6312954599658648\n",
            "Got 1533 / 1774 with accuracy 86.41\n",
            "Loss in epoch 3 :::: 0.39784152574233106\n",
            "Got 1591 / 1774 with accuracy 89.68\n",
            "Loss in epoch 4 :::: 0.32972050662915986\n",
            "Got 1610 / 1774 with accuracy 90.76\n",
            "Loss in epoch 5 :::: 0.29852999964947097\n",
            "Got 1622 / 1774 with accuracy 91.43\n",
            "Loss in epoch 6 :::: 0.2774265227956815\n",
            "Got 1614 / 1774 with accuracy 90.98\n",
            "Loss in epoch 7 :::: 0.2613599275381447\n",
            "Got 1635 / 1774 with accuracy 92.16\n",
            "Loss in epoch 8 :::: 0.2457075835046199\n",
            "Got 1623 / 1774 with accuracy 91.49\n",
            "Loss in epoch 9 :::: 0.23617593480928525\n",
            "Got 1639 / 1774 with accuracy 92.39\n",
            "Loss in epoch 10 :::: 0.22588616329337563\n",
            "Got 1649 / 1774 with accuracy 92.95\n",
            "Loss in epoch 11 :::: 0.2128167200061652\n",
            "Got 1643 / 1774 with accuracy 92.62\n",
            "Loss in epoch 12 :::: 0.20618076812106748\n",
            "Got 1639 / 1774 with accuracy 92.39\n",
            "Loss in epoch 13 :::: 0.19931372132588615\n",
            "Got 1664 / 1774 with accuracy 93.80\n",
            "Loss in epoch 14 :::: 0.18720542279550353\n",
            "Got 1656 / 1774 with accuracy 93.35\n",
            "Loss in epoch 15 :::: 0.18223213590681553\n",
            "Got 1670 / 1774 with accuracy 94.14\n",
            "Loss in epoch 16 :::: 0.17139257506576475\n",
            "Got 1668 / 1774 with accuracy 94.02\n",
            "Loss in epoch 17 :::: 0.16619674871499474\n",
            "Got 1675 / 1774 with accuracy 94.42\n",
            "Loss in epoch 18 :::: 0.16105836598823467\n",
            "Got 1677 / 1774 with accuracy 94.53\n",
            "Loss in epoch 19 :::: 0.151819622400007\n",
            "Got 1676 / 1774 with accuracy 94.48\n",
            "Loss in epoch 20 :::: 0.14840261002180274\n",
            "Got 1674 / 1774 with accuracy 94.36\n",
            "Loss in epoch 21 :::: 0.1414042723507763\n",
            "Got 1683 / 1774 with accuracy 94.87\n",
            "Loss in epoch 22 :::: 0.13758118660818483\n",
            "Got 1690 / 1774 with accuracy 95.26\n",
            "Loss in epoch 23 :::: 0.12828269985982696\n",
            "Got 1694 / 1774 with accuracy 95.49\n",
            "Loss in epoch 24 :::: 0.12803183310153382\n",
            "Got 1689 / 1774 with accuracy 95.21\n",
            "Loss in epoch 25 :::: 0.11754964150253448\n",
            "Got 1689 / 1774 with accuracy 95.21\n",
            "Loss in epoch 26 :::: 0.11447875521372299\n",
            "Got 1692 / 1774 with accuracy 95.38\n",
            "Loss in epoch 27 :::: 0.10822218799174906\n",
            "Got 1686 / 1774 with accuracy 95.04\n",
            "Loss in epoch 28 :::: 0.10475471249555011\n",
            "Got 1689 / 1774 with accuracy 95.21\n",
            "Loss in epoch 29 :::: 0.09979911189241049\n",
            "Got 1696 / 1774 with accuracy 95.60\n",
            "Loss in epoch 30 :::: 0.09580342983826995\n",
            "Got 1700 / 1774 with accuracy 95.83\n"
          ]
        }
      ]
    },
    {
      "cell_type": "markdown",
      "source": [
        "# Test"
      ],
      "metadata": {
        "id": "ep3fOgAWczwc"
      }
    },
    {
      "cell_type": "code",
      "source": [
        "test_ds = test_data(test_paths, svm_model, transform=transforms.Compose([ToTensor()]))"
      ],
      "metadata": {
        "id": "SCLoaM0SEGEW"
      },
      "execution_count": null,
      "outputs": []
    },
    {
      "cell_type": "code",
      "source": [
        "test_dl = DataLoader(test_ds, batch_size=32, shuffle=True, num_workers=2)"
      ],
      "metadata": {
        "id": "CdMgLOQWfE_m"
      },
      "execution_count": null,
      "outputs": []
    },
    {
      "cell_type": "code",
      "source": [
        "def test_nn():\n",
        "    device = torch.device('cuda' if torch.cuda.is_available() else 'cpu')\n",
        "    result = [[] for _ in range(3)]\n",
        "\n",
        "    with torch.no_grad():\n",
        "        for batch_idx, (input, image_idx, local) in enumerate(test_dl):\n",
        "            input = input.to(device=device)\n",
        "            scores = model(input)\n",
        "            _, predictions = scores.max(1)\n",
        "            if batch_idx == len(test_dl) - 1:\n",
        "                for i in range(len(test_ds) % 32):\n",
        "                    test_ds.fill(result,int(image_idx[i]), int(predictions[i]), list(local[i]))\n",
        "            else: \n",
        "                for i in range(32):\n",
        "                    test_ds.fill(result,int(image_idx[i]), int(predictions[i]), list(local[i]))\n",
        "    return result"
      ],
      "metadata": {
        "id": "1W_FgwcBf3c0"
      },
      "execution_count": null,
      "outputs": []
    },
    {
      "cell_type": "code",
      "source": [
        "nn_result = test_nn()"
      ],
      "metadata": {
        "id": "pYewWU5RneYC"
      },
      "execution_count": null,
      "outputs": []
    },
    {
      "cell_type": "code",
      "source": [
        "classes   = ('background','open','short','mousebite','spur','copper','pin-hole')"
      ],
      "metadata": {
        "id": "Asmi746juulV"
      },
      "execution_count": null,
      "outputs": []
    },
    {
      "cell_type": "code",
      "source": [
        "def show_result(image_index= 0):\n",
        "    for idx, (img_path) in enumerate(iter(test_paths[0]),0):\n",
        "        if idx == image_index:\n",
        "            feat_idxs = [i for i,val in enumerate(nn_result[0]) if val == idx]\n",
        "            image = cv.imread(img_path.replace('.','_test.'))\n",
        "            plt.figure(figsize=(10,10))\n",
        "            plt.imshow(image)\n",
        "\n",
        "            for j in feat_idxs:\n",
        "                pred, loc = nn_result[1][j], nn_result[2][j]\n",
        "                if classes[pred] != 'background':\n",
        "                    rect = patches.Rectangle((loc),50,50, edgecolor='b', facecolor='none', linewidth= 0.5)\n",
        "                    plt.gca().add_patch(rect)\n",
        "                    plt.text(loc[0],loc[1],classes[pred],color='b')"
      ],
      "metadata": {
        "id": "bCk53g-feUxv"
      },
      "execution_count": null,
      "outputs": []
    },
    {
      "cell_type": "code",
      "source": [
        "show_result(8)"
      ],
      "metadata": {
        "colab": {
          "base_uri": "https://localhost:8080/",
          "height": 595
        },
        "id": "G4uqKHZ6wQtR",
        "outputId": "817124e5-4da3-4d5b-f51d-de5fa1d443c2"
      },
      "execution_count": null,
      "outputs": [
        {
          "output_type": "display_data",
          "data": {
            "image/png": "[encoded data removed]",
            "text/plain": [
              "<Figure size 720x720 with 1 Axes>"
            ]
          },
          "metadata": {
            "needs_background": "light"
          }
        }
      ]
    }
  ]
}